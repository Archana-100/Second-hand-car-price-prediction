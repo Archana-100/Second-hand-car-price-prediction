{
 "cells": [
  {
   "cell_type": "markdown",
   "metadata": {},
   "source": [
    "# How to predict the second hand car price using Machine learning "
   ]
  },
  {
   "cell_type": "markdown",
   "metadata": {},
   "source": [
    "In this project, we’ll build a predictive model to predict the second hand car price. We will prepare the data using Jupyter \n",
    "Notebook and use Linear regression models to predict the target variable (price of the car).we use linear regression because our data is in a contineous form.  "
   ]
  },
  {
   "cell_type": "markdown",
   "metadata": {},
   "source": [
    "#Table of Contents\n",
    "\n",
    "1 Getting the system ready and loading the data \n",
    "2 Understanding the data\n",
    "3 Exploratory Data Analysis (EDA)\n",
    "4 Check the DataType of all columns\n",
    "5 Remove some Record that are not in proper formate\n",
    "6 Change the data Type of Columns(in Object to int)\n",
    "7 Remove null value from the Columns\n",
    "8 Evaluation Metrics for Regression problems\n",
    "9 Create Linear Regression model\n"
   ]
  },
  {
   "cell_type": "code",
   "execution_count": 2,
   "metadata": {},
   "outputs": [],
   "source": [
    "import pandas as pd\n",
    "import numpy as np\n",
    "import matplotlib.pyplot as plt"
   ]
  },
  {
   "cell_type": "markdown",
   "metadata": {},
   "source": [
    "Now, we load csv file into our dataset(cars_df)"
   ]
  },
  {
   "cell_type": "code",
   "execution_count": 3,
   "metadata": {},
   "outputs": [],
   "source": [
    "cars_df=pd.read_csv(\"C:/Users/archa/car price prediction/car_data.csv\")"
   ]
  },
  {
   "cell_type": "code",
   "execution_count": 4,
   "metadata": {},
   "outputs": [
    {
     "data": {
      "text/html": [
       "<div>\n",
       "<style scoped>\n",
       "    .dataframe tbody tr th:only-of-type {\n",
       "        vertical-align: middle;\n",
       "    }\n",
       "\n",
       "    .dataframe tbody tr th {\n",
       "        vertical-align: top;\n",
       "    }\n",
       "\n",
       "    .dataframe thead th {\n",
       "        text-align: right;\n",
       "    }\n",
       "</style>\n",
       "<table border=\"1\" class=\"dataframe\">\n",
       "  <thead>\n",
       "    <tr style=\"text-align: right;\">\n",
       "      <th></th>\n",
       "      <th>name</th>\n",
       "      <th>company</th>\n",
       "      <th>year</th>\n",
       "      <th>Price</th>\n",
       "      <th>kms_driven</th>\n",
       "      <th>fuel_type</th>\n",
       "    </tr>\n",
       "  </thead>\n",
       "  <tbody>\n",
       "    <tr>\n",
       "      <th>0</th>\n",
       "      <td>Hyundai Santro Xing XO eRLX Euro III</td>\n",
       "      <td>Hyundai</td>\n",
       "      <td>2007</td>\n",
       "      <td>80,000</td>\n",
       "      <td>45,000 kms</td>\n",
       "      <td>Petrol</td>\n",
       "    </tr>\n",
       "    <tr>\n",
       "      <th>1</th>\n",
       "      <td>Mahindra Jeep CL550 MDI</td>\n",
       "      <td>Mahindra</td>\n",
       "      <td>2006</td>\n",
       "      <td>4,25,000</td>\n",
       "      <td>40 kms</td>\n",
       "      <td>Diesel</td>\n",
       "    </tr>\n",
       "    <tr>\n",
       "      <th>2</th>\n",
       "      <td>Maruti Suzuki Alto 800 Vxi</td>\n",
       "      <td>Maruti</td>\n",
       "      <td>2018</td>\n",
       "      <td>Ask For Price</td>\n",
       "      <td>22,000 kms</td>\n",
       "      <td>Petrol</td>\n",
       "    </tr>\n",
       "    <tr>\n",
       "      <th>3</th>\n",
       "      <td>Hyundai Grand i10 Magna 1.2 Kappa VTVT</td>\n",
       "      <td>Hyundai</td>\n",
       "      <td>2014</td>\n",
       "      <td>3,25,000</td>\n",
       "      <td>28,000 kms</td>\n",
       "      <td>Petrol</td>\n",
       "    </tr>\n",
       "    <tr>\n",
       "      <th>4</th>\n",
       "      <td>Ford EcoSport Titanium 1.5L TDCi</td>\n",
       "      <td>Ford</td>\n",
       "      <td>2014</td>\n",
       "      <td>5,75,000</td>\n",
       "      <td>36,000 kms</td>\n",
       "      <td>Diesel</td>\n",
       "    </tr>\n",
       "  </tbody>\n",
       "</table>\n",
       "</div>"
      ],
      "text/plain": [
       "                                     name   company  year          Price  \\\n",
       "0    Hyundai Santro Xing XO eRLX Euro III   Hyundai  2007         80,000   \n",
       "1                 Mahindra Jeep CL550 MDI  Mahindra  2006       4,25,000   \n",
       "2              Maruti Suzuki Alto 800 Vxi    Maruti  2018  Ask For Price   \n",
       "3  Hyundai Grand i10 Magna 1.2 Kappa VTVT   Hyundai  2014       3,25,000   \n",
       "4        Ford EcoSport Titanium 1.5L TDCi      Ford  2014       5,75,000   \n",
       "\n",
       "   kms_driven fuel_type  \n",
       "0  45,000 kms    Petrol  \n",
       "1      40 kms    Diesel  \n",
       "2  22,000 kms    Petrol  \n",
       "3  28,000 kms    Petrol  \n",
       "4  36,000 kms    Diesel  "
      ]
     },
     "execution_count": 4,
     "metadata": {},
     "output_type": "execute_result"
    }
   ],
   "source": [
    "cars_df.head()"
   ]
  },
  {
   "cell_type": "code",
   "execution_count": 5,
   "metadata": {},
   "outputs": [
    {
     "data": {
      "text/plain": [
       "(892, 6)"
      ]
     },
     "execution_count": 5,
     "metadata": {},
     "output_type": "execute_result"
    }
   ],
   "source": [
    "cars_df.shape"
   ]
  },
  {
   "cell_type": "code",
   "execution_count": 7,
   "metadata": {},
   "outputs": [
    {
     "name": "stdout",
     "output_type": "stream",
     "text": [
      "<class 'pandas.core.frame.DataFrame'>\n",
      "RangeIndex: 892 entries, 0 to 891\n",
      "Data columns (total 6 columns):\n",
      " #   Column      Non-Null Count  Dtype \n",
      "---  ------      --------------  ----- \n",
      " 0   name        892 non-null    object\n",
      " 1   company     892 non-null    object\n",
      " 2   year        892 non-null    object\n",
      " 3   Price       892 non-null    object\n",
      " 4   kms_driven  840 non-null    object\n",
      " 5   fuel_type   837 non-null    object\n",
      "dtypes: object(6)\n",
      "memory usage: 41.9+ KB\n"
     ]
    }
   ],
   "source": [
    "cars_df.info()"
   ]
  },
  {
   "cell_type": "markdown",
   "metadata": {},
   "source": [
    "now, we should check our data is in correct formate or not\n",
    "Year column : data should be numeric type but in this case data is any formate."
   ]
  },
  {
   "cell_type": "code",
   "execution_count": 8,
   "metadata": {},
   "outputs": [
    {
     "data": {
      "text/plain": [
       "array(['2007', '2006', '2018', '2014', '2015', '2012', '2013', '2016',\n",
       "       '2010', '2017', '2008', '2011', '2019', '2009', '2005', '2000',\n",
       "       '...', '150k', 'TOUR', '2003', 'r 15', '2004', 'Zest', '/-Rs',\n",
       "       'sale', '1995', 'ara)', '2002', 'SELL', '2001', 'tion', 'odel',\n",
       "       '2 bs', 'arry', 'Eon', 'o...', 'ture', 'emi', 'car', 'able', 'no.',\n",
       "       'd...', 'SALE', 'digo', 'sell', 'd Ex', 'n...', 'e...', 'D...',\n",
       "       ', Ac', 'go .', 'k...', 'o c4', 'zire', 'cent', 'Sumo', 'cab',\n",
       "       't xe', 'EV2', 'r...', 'zest'], dtype=object)"
      ]
     },
     "execution_count": 8,
     "metadata": {},
     "output_type": "execute_result"
    }
   ],
   "source": [
    "cars_df[\"year\"].unique()"
   ]
  },
  {
   "cell_type": "markdown",
   "metadata": {},
   "source": [
    "In kms_driven column, we have some nan-value ,so we should remove it.\n",
    "and we also need data in numerical form , so we need to remove \"kms\" word from each data record"
   ]
  },
  {
   "cell_type": "code",
   "execution_count": 9,
   "metadata": {},
   "outputs": [
    {
     "data": {
      "text/plain": [
       "array(['45,000 kms', '40 kms', '22,000 kms', '28,000 kms', '36,000 kms',\n",
       "       '59,000 kms', '41,000 kms', '25,000 kms', '24,530 kms',\n",
       "       '60,000 kms', '30,000 kms', '32,000 kms', '48,660 kms',\n",
       "       '4,000 kms', '16,934 kms', '43,000 kms', '35,550 kms',\n",
       "       '39,522 kms', '39,000 kms', '55,000 kms', '72,000 kms',\n",
       "       '15,975 kms', '70,000 kms', '23,452 kms', '35,522 kms',\n",
       "       '48,508 kms', '15,487 kms', '82,000 kms', '20,000 kms',\n",
       "       '68,000 kms', '38,000 kms', '27,000 kms', '33,000 kms',\n",
       "       '46,000 kms', '16,000 kms', '47,000 kms', '35,000 kms',\n",
       "       '30,874 kms', '15,000 kms', '29,685 kms', '1,30,000 kms',\n",
       "       '19,000 kms', nan, '54,000 kms', '13,000 kms', '38,200 kms',\n",
       "       '50,000 kms', '13,500 kms', '3,600 kms', '45,863 kms',\n",
       "       '60,500 kms', '12,500 kms', '18,000 kms', '13,349 kms',\n",
       "       '29,000 kms', '44,000 kms', '42,000 kms', '14,000 kms',\n",
       "       '49,000 kms', '36,200 kms', '51,000 kms', '1,04,000 kms',\n",
       "       '33,333 kms', '33,600 kms', '5,600 kms', '7,500 kms', '26,000 kms',\n",
       "       '24,330 kms', '65,480 kms', '28,028 kms', '2,00,000 kms',\n",
       "       '99,000 kms', '2,800 kms', '21,000 kms', '11,000 kms',\n",
       "       '66,000 kms', '3,000 kms', '7,000 kms', '38,500 kms', '37,200 kms',\n",
       "       '43,200 kms', '24,800 kms', '45,872 kms', '40,000 kms',\n",
       "       '11,400 kms', '97,200 kms', '52,000 kms', '31,000 kms',\n",
       "       '1,75,430 kms', '37,000 kms', '65,000 kms', '3,350 kms',\n",
       "       '75,000 kms', '62,000 kms', '73,000 kms', '2,200 kms',\n",
       "       '54,870 kms', '34,580 kms', '97,000 kms', '60 kms', '80,200 kms',\n",
       "       '3,200 kms', '0,000 kms', '5,000 kms', '588 kms', '71,200 kms',\n",
       "       '1,75,400 kms', '9,300 kms', '56,758 kms', '10,000 kms',\n",
       "       '56,450 kms', '56,000 kms', '32,700 kms', '9,000 kms', '73 kms',\n",
       "       '1,60,000 kms', '84,000 kms', '58,559 kms', '57,000 kms',\n",
       "       '1,70,000 kms', '80,000 kms', '6,821 kms', '23,000 kms',\n",
       "       '34,000 kms', '1,800 kms', '4,00,000 kms', '48,000 kms',\n",
       "       '90,000 kms', '12,000 kms', '69,900 kms', '1,66,000 kms',\n",
       "       '122 kms', '0 kms', '24,000 kms', '36,469 kms', '7,800 kms',\n",
       "       '24,695 kms', '15,141 kms', '59,910 kms', '1,00,000 kms',\n",
       "       '4,500 kms', '1,29,000 kms', '300 kms', '1,31,000 kms',\n",
       "       '1,11,111 kms', '59,466 kms', '25,500 kms', '44,005 kms',\n",
       "       '2,110 kms', '43,222 kms', '1,00,200 kms', '65 kms',\n",
       "       '1,40,000 kms', '1,03,553 kms', '58,000 kms', '1,20,000 kms',\n",
       "       '49,800 kms', '100 kms', '81,876 kms', '6,020 kms', '55,700 kms',\n",
       "       '18,500 kms', '1,80,000 kms', '53,000 kms', '35,500 kms',\n",
       "       '22,134 kms', '1,000 kms', '8,500 kms', '87,000 kms', '6,000 kms',\n",
       "       '15,574 kms', '8,000 kms', '55,800 kms', '56,400 kms',\n",
       "       '72,160 kms', '11,500 kms', '1,33,000 kms', '2,000 kms',\n",
       "       '88,000 kms', '65,422 kms', '1,17,000 kms', '1,50,000 kms',\n",
       "       '10,750 kms', '6,800 kms', '5 kms', '9,800 kms', '57,923 kms',\n",
       "       '30,201 kms', '6,200 kms', '37,518 kms', '24,652 kms', '383 kms',\n",
       "       '95,000 kms', '3,528 kms', '52,500 kms', '47,900 kms',\n",
       "       '52,800 kms', '1,95,000 kms', '48,008 kms', '48,247 kms',\n",
       "       '9,400 kms', '64,000 kms', '2,137 kms', '10,544 kms', '49,500 kms',\n",
       "       '1,47,000 kms', '90,001 kms', '48,006 kms', '74,000 kms',\n",
       "       '85,000 kms', '29,500 kms', '39,700 kms', '67,000 kms',\n",
       "       '19,336 kms', '60,105 kms', '45,933 kms', '1,02,563 kms',\n",
       "       '28,600 kms', '41,800 kms', '1,16,000 kms', '42,590 kms',\n",
       "       '7,400 kms', '54,500 kms', '76,000 kms', '00 kms', '11,523 kms',\n",
       "       '38,600 kms', '95,500 kms', '37,458 kms', '85,960 kms',\n",
       "       '12,516 kms', '30,600 kms', '2,550 kms', '62,500 kms',\n",
       "       '69,000 kms', '28,400 kms', '68,485 kms', '3,500 kms',\n",
       "       '85,455 kms', '63,000 kms', '1,600 kms', '77,000 kms',\n",
       "       '26,500 kms', '2,875 kms', '13,900 kms', '1,500 kms', '2,450 kms',\n",
       "       '1,625 kms', '33,400 kms', '60,123 kms', '38,900 kms',\n",
       "       '1,37,495 kms', '91,200 kms', '1,46,000 kms', '1,00,800 kms',\n",
       "       '2,100 kms', '2,500 kms', '1,32,000 kms', 'Petrol'], dtype=object)"
      ]
     },
     "execution_count": 9,
     "metadata": {},
     "output_type": "execute_result"
    }
   ],
   "source": [
    "cars_df[\"kms_driven\"].unique()"
   ]
  },
  {
   "cell_type": "markdown",
   "metadata": {},
   "source": [
    "In fuel_type column we have some nan value ,so we should remove it."
   ]
  },
  {
   "cell_type": "code",
   "execution_count": 10,
   "metadata": {},
   "outputs": [
    {
     "data": {
      "text/plain": [
       "array(['Petrol', 'Diesel', nan, 'LPG'], dtype=object)"
      ]
     },
     "execution_count": 10,
     "metadata": {},
     "output_type": "execute_result"
    }
   ],
   "source": [
    "cars_df[\"fuel_type\"].unique()"
   ]
  },
  {
   "cell_type": "code",
   "execution_count": 11,
   "metadata": {},
   "outputs": [
    {
     "data": {
      "text/plain": [
       "Petrol    440\n",
       "Diesel    395\n",
       "LPG         2\n",
       "Name: fuel_type, dtype: int64"
      ]
     },
     "execution_count": 11,
     "metadata": {},
     "output_type": "execute_result"
    }
   ],
   "source": [
    "cars_df[\"fuel_type\"].value_counts()"
   ]
  },
  {
   "cell_type": "code",
   "execution_count": 12,
   "metadata": {
    "scrolled": true
   },
   "outputs": [
    {
     "data": {
      "text/plain": [
       "array(['80,000', '4,25,000', 'Ask For Price', '3,25,000', '5,75,000',\n",
       "       '1,75,000', '1,90,000', '8,30,000', '2,50,000', '1,82,000',\n",
       "       '3,15,000', '4,15,000', '3,20,000', '10,00,000', '5,00,000',\n",
       "       '3,50,000', '1,60,000', '3,10,000', '75,000', '1,00,000',\n",
       "       '2,90,000', '95,000', '1,80,000', '3,85,000', '1,05,000',\n",
       "       '6,50,000', '6,89,999', '4,48,000', '5,49,000', '5,01,000',\n",
       "       '4,89,999', '2,80,000', '3,49,999', '2,84,999', '3,45,000',\n",
       "       '4,99,999', '2,35,000', '2,49,999', '14,75,000', '3,95,000',\n",
       "       '2,20,000', '1,70,000', '85,000', '2,00,000', '5,70,000',\n",
       "       '1,10,000', '4,48,999', '18,91,111', '1,59,500', '3,44,999',\n",
       "       '4,49,999', '8,65,000', '6,99,000', '3,75,000', '2,24,999',\n",
       "       '12,00,000', '1,95,000', '3,51,000', '2,40,000', '90,000',\n",
       "       '1,55,000', '6,00,000', '1,89,500', '2,10,000', '3,90,000',\n",
       "       '1,35,000', '16,00,000', '7,01,000', '2,65,000', '5,25,000',\n",
       "       '3,72,000', '6,35,000', '5,50,000', '4,85,000', '3,29,500',\n",
       "       '2,51,111', '5,69,999', '69,999', '2,99,999', '3,99,999',\n",
       "       '4,50,000', '2,70,000', '1,58,400', '1,79,000', '1,25,000',\n",
       "       '2,99,000', '1,50,000', '2,75,000', '2,85,000', '3,40,000',\n",
       "       '70,000', '2,89,999', '8,49,999', '7,49,999', '2,74,999',\n",
       "       '9,84,999', '5,99,999', '2,44,999', '4,74,999', '2,45,000',\n",
       "       '1,69,500', '3,70,000', '1,68,000', '1,45,000', '98,500',\n",
       "       '2,09,000', '1,85,000', '9,00,000', '6,99,999', '1,99,999',\n",
       "       '5,44,999', '1,99,000', '5,40,000', '49,000', '7,00,000', '55,000',\n",
       "       '8,95,000', '3,55,000', '5,65,000', '3,65,000', '40,000',\n",
       "       '4,00,000', '3,30,000', '5,80,000', '3,79,000', '2,19,000',\n",
       "       '5,19,000', '7,30,000', '20,00,000', '21,00,000', '14,00,000',\n",
       "       '3,11,000', '8,55,000', '5,35,000', '1,78,000', '3,00,000',\n",
       "       '2,55,000', '5,49,999', '3,80,000', '57,000', '4,10,000',\n",
       "       '2,25,000', '1,20,000', '59,000', '5,99,000', '6,75,000', '72,500',\n",
       "       '6,10,000', '2,30,000', '5,20,000', '5,24,999', '4,24,999',\n",
       "       '6,44,999', '5,84,999', '7,99,999', '4,44,999', '6,49,999',\n",
       "       '9,44,999', '5,74,999', '3,74,999', '1,30,000', '4,01,000',\n",
       "       '13,50,000', '1,74,999', '2,39,999', '99,999', '3,24,999',\n",
       "       '10,74,999', '11,30,000', '1,49,000', '7,70,000', '30,000',\n",
       "       '3,35,000', '3,99,000', '65,000', '1,69,999', '1,65,000',\n",
       "       '5,60,000', '9,50,000', '7,15,000', '45,000', '9,40,000',\n",
       "       '1,55,555', '15,00,000', '4,95,000', '8,00,000', '12,99,000',\n",
       "       '5,30,000', '14,99,000', '32,000', '4,05,000', '7,60,000',\n",
       "       '7,50,000', '4,19,000', '1,40,000', '15,40,000', '1,23,000',\n",
       "       '4,98,000', '4,80,000', '4,88,000', '15,25,000', '5,48,900',\n",
       "       '7,25,000', '99,000', '52,000', '28,00,000', '4,99,000',\n",
       "       '3,81,000', '2,78,000', '6,90,000', '2,60,000', '90,001',\n",
       "       '1,15,000', '15,99,000', '1,59,000', '51,999', '2,15,000',\n",
       "       '35,000', '11,50,000', '2,69,000', '60,000', '4,30,000',\n",
       "       '85,00,003', '4,01,919', '4,90,000', '4,24,000', '2,05,000',\n",
       "       '5,49,900', '3,71,500', '4,35,000', '1,89,700', '3,89,700',\n",
       "       '3,60,000', '2,95,000', '1,14,990', '10,65,000', '4,70,000',\n",
       "       '48,000', '1,88,000', '4,65,000', '1,79,999', '21,90,000',\n",
       "       '23,90,000', '10,75,000', '4,75,000', '10,25,000', '6,15,000',\n",
       "       '19,00,000', '14,90,000', '15,10,000', '18,50,000', '7,90,000',\n",
       "       '17,25,000', '12,25,000', '68,000', '9,70,000', '31,00,000',\n",
       "       '8,99,000', '88,000', '53,000', '5,68,500', '71,000', '5,90,000',\n",
       "       '7,95,000', '42,000', '1,89,000', '1,62,000', '35,999',\n",
       "       '29,00,000', '39,999', '50,500', '5,10,000', '8,60,000',\n",
       "       '5,00,001'], dtype=object)"
      ]
     },
     "execution_count": 12,
     "metadata": {},
     "output_type": "execute_result"
    }
   ],
   "source": [
    "cars_df[\"Price\"].unique()"
   ]
  },
  {
   "cell_type": "markdown",
   "metadata": {},
   "source": [
    "# cleaning"
   ]
  },
  {
   "cell_type": "code",
   "execution_count": 13,
   "metadata": {},
   "outputs": [],
   "source": [
    "backup=cars_df.copy()"
   ]
  },
  {
   "cell_type": "code",
   "execution_count": 14,
   "metadata": {},
   "outputs": [
    {
     "data": {
      "text/plain": [
       "0      2007\n",
       "1      2006\n",
       "2      2018\n",
       "3      2014\n",
       "4      2014\n",
       "       ... \n",
       "887    zest\n",
       "888    2018\n",
       "889    2013\n",
       "890    2014\n",
       "891    2014\n",
       "Name: year, Length: 892, dtype: object"
      ]
     },
     "execution_count": 14,
     "metadata": {},
     "output_type": "execute_result"
    }
   ],
   "source": [
    "cars_df['year']"
   ]
  },
  {
   "cell_type": "markdown",
   "metadata": {},
   "source": [
    "check where is only numeric values in our year column and only those values are taken into our dataset."
   ]
  },
  {
   "cell_type": "code",
   "execution_count": 15,
   "metadata": {},
   "outputs": [],
   "source": [
    "cars_df=cars_df[cars_df['year'].str.isnumeric()]"
   ]
  },
  {
   "cell_type": "code",
   "execution_count": 16,
   "metadata": {},
   "outputs": [
    {
     "data": {
      "text/html": [
       "<div>\n",
       "<style scoped>\n",
       "    .dataframe tbody tr th:only-of-type {\n",
       "        vertical-align: middle;\n",
       "    }\n",
       "\n",
       "    .dataframe tbody tr th {\n",
       "        vertical-align: top;\n",
       "    }\n",
       "\n",
       "    .dataframe thead th {\n",
       "        text-align: right;\n",
       "    }\n",
       "</style>\n",
       "<table border=\"1\" class=\"dataframe\">\n",
       "  <thead>\n",
       "    <tr style=\"text-align: right;\">\n",
       "      <th></th>\n",
       "      <th>name</th>\n",
       "      <th>company</th>\n",
       "      <th>year</th>\n",
       "      <th>Price</th>\n",
       "      <th>kms_driven</th>\n",
       "      <th>fuel_type</th>\n",
       "    </tr>\n",
       "  </thead>\n",
       "  <tbody>\n",
       "    <tr>\n",
       "      <th>0</th>\n",
       "      <td>Hyundai Santro Xing XO eRLX Euro III</td>\n",
       "      <td>Hyundai</td>\n",
       "      <td>2007</td>\n",
       "      <td>80,000</td>\n",
       "      <td>45,000 kms</td>\n",
       "      <td>Petrol</td>\n",
       "    </tr>\n",
       "    <tr>\n",
       "      <th>1</th>\n",
       "      <td>Mahindra Jeep CL550 MDI</td>\n",
       "      <td>Mahindra</td>\n",
       "      <td>2006</td>\n",
       "      <td>4,25,000</td>\n",
       "      <td>40 kms</td>\n",
       "      <td>Diesel</td>\n",
       "    </tr>\n",
       "    <tr>\n",
       "      <th>2</th>\n",
       "      <td>Maruti Suzuki Alto 800 Vxi</td>\n",
       "      <td>Maruti</td>\n",
       "      <td>2018</td>\n",
       "      <td>Ask For Price</td>\n",
       "      <td>22,000 kms</td>\n",
       "      <td>Petrol</td>\n",
       "    </tr>\n",
       "    <tr>\n",
       "      <th>3</th>\n",
       "      <td>Hyundai Grand i10 Magna 1.2 Kappa VTVT</td>\n",
       "      <td>Hyundai</td>\n",
       "      <td>2014</td>\n",
       "      <td>3,25,000</td>\n",
       "      <td>28,000 kms</td>\n",
       "      <td>Petrol</td>\n",
       "    </tr>\n",
       "    <tr>\n",
       "      <th>4</th>\n",
       "      <td>Ford EcoSport Titanium 1.5L TDCi</td>\n",
       "      <td>Ford</td>\n",
       "      <td>2014</td>\n",
       "      <td>5,75,000</td>\n",
       "      <td>36,000 kms</td>\n",
       "      <td>Diesel</td>\n",
       "    </tr>\n",
       "    <tr>\n",
       "      <th>...</th>\n",
       "      <td>...</td>\n",
       "      <td>...</td>\n",
       "      <td>...</td>\n",
       "      <td>...</td>\n",
       "      <td>...</td>\n",
       "      <td>...</td>\n",
       "    </tr>\n",
       "    <tr>\n",
       "      <th>886</th>\n",
       "      <td>Toyota Corolla Altis</td>\n",
       "      <td>Toyota</td>\n",
       "      <td>2009</td>\n",
       "      <td>3,00,000</td>\n",
       "      <td>1,32,000 kms</td>\n",
       "      <td>Petrol</td>\n",
       "    </tr>\n",
       "    <tr>\n",
       "      <th>888</th>\n",
       "      <td>Tata Zest XM Diesel</td>\n",
       "      <td>Tata</td>\n",
       "      <td>2018</td>\n",
       "      <td>2,60,000</td>\n",
       "      <td>27,000 kms</td>\n",
       "      <td>Diesel</td>\n",
       "    </tr>\n",
       "    <tr>\n",
       "      <th>889</th>\n",
       "      <td>Mahindra Quanto C8</td>\n",
       "      <td>Mahindra</td>\n",
       "      <td>2013</td>\n",
       "      <td>3,90,000</td>\n",
       "      <td>40,000 kms</td>\n",
       "      <td>Diesel</td>\n",
       "    </tr>\n",
       "    <tr>\n",
       "      <th>890</th>\n",
       "      <td>Honda Amaze 1.2 E i VTEC</td>\n",
       "      <td>Honda</td>\n",
       "      <td>2014</td>\n",
       "      <td>1,80,000</td>\n",
       "      <td>Petrol</td>\n",
       "      <td>NaN</td>\n",
       "    </tr>\n",
       "    <tr>\n",
       "      <th>891</th>\n",
       "      <td>Chevrolet Sail 1.2 LT ABS</td>\n",
       "      <td>Chevrolet</td>\n",
       "      <td>2014</td>\n",
       "      <td>1,60,000</td>\n",
       "      <td>Petrol</td>\n",
       "      <td>NaN</td>\n",
       "    </tr>\n",
       "  </tbody>\n",
       "</table>\n",
       "<p>842 rows × 6 columns</p>\n",
       "</div>"
      ],
      "text/plain": [
       "                                       name    company  year          Price  \\\n",
       "0      Hyundai Santro Xing XO eRLX Euro III    Hyundai  2007         80,000   \n",
       "1                   Mahindra Jeep CL550 MDI   Mahindra  2006       4,25,000   \n",
       "2                Maruti Suzuki Alto 800 Vxi     Maruti  2018  Ask For Price   \n",
       "3    Hyundai Grand i10 Magna 1.2 Kappa VTVT    Hyundai  2014       3,25,000   \n",
       "4          Ford EcoSport Titanium 1.5L TDCi       Ford  2014       5,75,000   \n",
       "..                                      ...        ...   ...            ...   \n",
       "886                    Toyota Corolla Altis     Toyota  2009       3,00,000   \n",
       "888                     Tata Zest XM Diesel       Tata  2018       2,60,000   \n",
       "889                      Mahindra Quanto C8   Mahindra  2013       3,90,000   \n",
       "890                Honda Amaze 1.2 E i VTEC      Honda  2014       1,80,000   \n",
       "891               Chevrolet Sail 1.2 LT ABS  Chevrolet  2014       1,60,000   \n",
       "\n",
       "       kms_driven fuel_type  \n",
       "0      45,000 kms    Petrol  \n",
       "1          40 kms    Diesel  \n",
       "2      22,000 kms    Petrol  \n",
       "3      28,000 kms    Petrol  \n",
       "4      36,000 kms    Diesel  \n",
       "..            ...       ...  \n",
       "886  1,32,000 kms    Petrol  \n",
       "888    27,000 kms    Diesel  \n",
       "889    40,000 kms    Diesel  \n",
       "890        Petrol       NaN  \n",
       "891        Petrol       NaN  \n",
       "\n",
       "[842 rows x 6 columns]"
      ]
     },
     "execution_count": 16,
     "metadata": {},
     "output_type": "execute_result"
    }
   ],
   "source": [
    "cars_df"
   ]
  },
  {
   "cell_type": "code",
   "execution_count": 17,
   "metadata": {},
   "outputs": [
    {
     "data": {
      "text/plain": [
       "0      2007\n",
       "1      2006\n",
       "2      2018\n",
       "3      2014\n",
       "4      2014\n",
       "       ... \n",
       "886    2009\n",
       "888    2018\n",
       "889    2013\n",
       "890    2014\n",
       "891    2014\n",
       "Name: year, Length: 842, dtype: int32"
      ]
     },
     "execution_count": 17,
     "metadata": {},
     "output_type": "execute_result"
    }
   ],
   "source": [
    "cars_df['year'].astype(int)"
   ]
  },
  {
   "cell_type": "code",
   "execution_count": 18,
   "metadata": {},
   "outputs": [
    {
     "name": "stdout",
     "output_type": "stream",
     "text": [
      "<class 'pandas.core.frame.DataFrame'>\n",
      "Int64Index: 842 entries, 0 to 891\n",
      "Data columns (total 6 columns):\n",
      " #   Column      Non-Null Count  Dtype \n",
      "---  ------      --------------  ----- \n",
      " 0   name        842 non-null    object\n",
      " 1   company     842 non-null    object\n",
      " 2   year        842 non-null    object\n",
      " 3   Price       842 non-null    object\n",
      " 4   kms_driven  840 non-null    object\n",
      " 5   fuel_type   837 non-null    object\n",
      "dtypes: object(6)\n",
      "memory usage: 46.0+ KB\n"
     ]
    }
   ],
   "source": [
    "cars_df.info()"
   ]
  },
  {
   "cell_type": "markdown",
   "metadata": {},
   "source": [
    "now, we should change year column's data type(object to int)"
   ]
  },
  {
   "cell_type": "code",
   "execution_count": 19,
   "metadata": {},
   "outputs": [],
   "source": [
    "cars_df['year']=cars_df['year'].astype(int)"
   ]
  },
  {
   "cell_type": "code",
   "execution_count": 20,
   "metadata": {},
   "outputs": [
    {
     "name": "stdout",
     "output_type": "stream",
     "text": [
      "<class 'pandas.core.frame.DataFrame'>\n",
      "Int64Index: 842 entries, 0 to 891\n",
      "Data columns (total 6 columns):\n",
      " #   Column      Non-Null Count  Dtype \n",
      "---  ------      --------------  ----- \n",
      " 0   name        842 non-null    object\n",
      " 1   company     842 non-null    object\n",
      " 2   year        842 non-null    int32 \n",
      " 3   Price       842 non-null    object\n",
      " 4   kms_driven  840 non-null    object\n",
      " 5   fuel_type   837 non-null    object\n",
      "dtypes: int32(1), object(5)\n",
      "memory usage: 42.8+ KB\n"
     ]
    }
   ],
   "source": [
    "cars_df.info()"
   ]
  },
  {
   "cell_type": "markdown",
   "metadata": {},
   "source": [
    "in price column, we can see there is one string values(\"Ask For Price\")"
   ]
  },
  {
   "cell_type": "code",
   "execution_count": 21,
   "metadata": {},
   "outputs": [
    {
     "data": {
      "text/plain": [
       "0             80,000\n",
       "1           4,25,000\n",
       "2      Ask For Price\n",
       "3           3,25,000\n",
       "4           5,75,000\n",
       "           ...      \n",
       "886         3,00,000\n",
       "888         2,60,000\n",
       "889         3,90,000\n",
       "890         1,80,000\n",
       "891         1,60,000\n",
       "Name: Price, Length: 842, dtype: object"
      ]
     },
     "execution_count": 21,
     "metadata": {},
     "output_type": "execute_result"
    }
   ],
   "source": [
    "cars_df['Price']"
   ]
  },
  {
   "cell_type": "markdown",
   "metadata": {},
   "source": [
    "we need only integer value from price column so, so we can take all the record excluding \"Ask For Price\""
   ]
  },
  {
   "cell_type": "code",
   "execution_count": 22,
   "metadata": {},
   "outputs": [],
   "source": [
    "cars_df=cars_df[cars_df['Price']!=\"Ask For Price\"]"
   ]
  },
  {
   "cell_type": "code",
   "execution_count": 23,
   "metadata": {},
   "outputs": [
    {
     "name": "stdout",
     "output_type": "stream",
     "text": [
      "<class 'pandas.core.frame.DataFrame'>\n",
      "Int64Index: 819 entries, 0 to 891\n",
      "Data columns (total 6 columns):\n",
      " #   Column      Non-Null Count  Dtype \n",
      "---  ------      --------------  ----- \n",
      " 0   name        819 non-null    object\n",
      " 1   company     819 non-null    object\n",
      " 2   year        819 non-null    int32 \n",
      " 3   Price       819 non-null    object\n",
      " 4   kms_driven  819 non-null    object\n",
      " 5   fuel_type   816 non-null    object\n",
      "dtypes: int32(1), object(5)\n",
      "memory usage: 41.6+ KB\n"
     ]
    }
   ],
   "source": [
    "cars_df.info()"
   ]
  },
  {
   "cell_type": "markdown",
   "metadata": {},
   "source": [
    "now we will remove \",\" from Price (ex:8,45,000) and change the data type object to integer"
   ]
  },
  {
   "cell_type": "code",
   "execution_count": 24,
   "metadata": {},
   "outputs": [
    {
     "name": "stderr",
     "output_type": "stream",
     "text": [
      "<ipython-input-24-2b23f7b71126>:1: SettingWithCopyWarning: \n",
      "A value is trying to be set on a copy of a slice from a DataFrame.\n",
      "Try using .loc[row_indexer,col_indexer] = value instead\n",
      "\n",
      "See the caveats in the documentation: https://pandas.pydata.org/pandas-docs/stable/user_guide/indexing.html#returning-a-view-versus-a-copy\n",
      "  cars_df[\"Price\"]=cars_df[\"Price\"].str.replace(\",\",\"\").astype(int)\n"
     ]
    }
   ],
   "source": [
    "cars_df[\"Price\"]=cars_df[\"Price\"].str.replace(\",\",\"\").astype(int)"
   ]
  },
  {
   "cell_type": "code",
   "execution_count": 25,
   "metadata": {},
   "outputs": [
    {
     "data": {
      "text/plain": [
       "0       80000\n",
       "1      425000\n",
       "3      325000\n",
       "4      575000\n",
       "6      175000\n",
       "        ...  \n",
       "886    300000\n",
       "888    260000\n",
       "889    390000\n",
       "890    180000\n",
       "891    160000\n",
       "Name: Price, Length: 819, dtype: int32"
      ]
     },
     "execution_count": 25,
     "metadata": {},
     "output_type": "execute_result"
    }
   ],
   "source": [
    "cars_df[\"Price\"]"
   ]
  },
  {
   "cell_type": "code",
   "execution_count": 26,
   "metadata": {},
   "outputs": [
    {
     "name": "stdout",
     "output_type": "stream",
     "text": [
      "<class 'pandas.core.frame.DataFrame'>\n",
      "Int64Index: 819 entries, 0 to 891\n",
      "Data columns (total 6 columns):\n",
      " #   Column      Non-Null Count  Dtype \n",
      "---  ------      --------------  ----- \n",
      " 0   name        819 non-null    object\n",
      " 1   company     819 non-null    object\n",
      " 2   year        819 non-null    int32 \n",
      " 3   Price       819 non-null    int32 \n",
      " 4   kms_driven  819 non-null    object\n",
      " 5   fuel_type   816 non-null    object\n",
      "dtypes: int32(2), object(4)\n",
      "memory usage: 38.4+ KB\n"
     ]
    }
   ],
   "source": [
    "cars_df.info()"
   ]
  },
  {
   "cell_type": "code",
   "execution_count": 27,
   "metadata": {},
   "outputs": [
    {
     "data": {
      "text/plain": [
       "0        45,000 kms\n",
       "1            40 kms\n",
       "3        28,000 kms\n",
       "4        36,000 kms\n",
       "6        41,000 kms\n",
       "           ...     \n",
       "886    1,32,000 kms\n",
       "888      27,000 kms\n",
       "889      40,000 kms\n",
       "890          Petrol\n",
       "891          Petrol\n",
       "Name: kms_driven, Length: 819, dtype: object"
      ]
     },
     "execution_count": 27,
     "metadata": {},
     "output_type": "execute_result"
    }
   ],
   "source": [
    "cars_df[\"kms_driven\"]"
   ]
  },
  {
   "cell_type": "markdown",
   "metadata": {},
   "source": [
    "in kms_driven colums we will split the value then it will look like this([45,000 , kms])\n",
    "so we get first value using index[0] then we will remove the (45,000 to 45000)"
   ]
  },
  {
   "cell_type": "code",
   "execution_count": 28,
   "metadata": {},
   "outputs": [
    {
     "name": "stderr",
     "output_type": "stream",
     "text": [
      "<ipython-input-28-ee8b04446675>:1: SettingWithCopyWarning: \n",
      "A value is trying to be set on a copy of a slice from a DataFrame.\n",
      "Try using .loc[row_indexer,col_indexer] = value instead\n",
      "\n",
      "See the caveats in the documentation: https://pandas.pydata.org/pandas-docs/stable/user_guide/indexing.html#returning-a-view-versus-a-copy\n",
      "  cars_df['kms_driven']=cars_df['kms_driven'].str.split(\" \").str.get(0).str.replace(\",\",\"\")\n"
     ]
    }
   ],
   "source": [
    "cars_df['kms_driven']=cars_df['kms_driven'].str.split(\" \").str.get(0).str.replace(\",\",\"\")"
   ]
  },
  {
   "cell_type": "code",
   "execution_count": 29,
   "metadata": {},
   "outputs": [
    {
     "data": {
      "text/plain": [
       "0       45000\n",
       "1          40\n",
       "3       28000\n",
       "4       36000\n",
       "6       41000\n",
       "        ...  \n",
       "886    132000\n",
       "888     27000\n",
       "889     40000\n",
       "890    Petrol\n",
       "891    Petrol\n",
       "Name: kms_driven, Length: 819, dtype: object"
      ]
     },
     "execution_count": 29,
     "metadata": {},
     "output_type": "execute_result"
    }
   ],
   "source": [
    "cars_df['kms_driven']"
   ]
  },
  {
   "cell_type": "markdown",
   "metadata": {},
   "source": [
    "We can see in kms_driven column have some string value(petrol) so we need to take only those value that are in a numeric formate"
   ]
  },
  {
   "cell_type": "code",
   "execution_count": 30,
   "metadata": {},
   "outputs": [],
   "source": [
    "cars_df=cars_df[cars_df['kms_driven'].str.isnumeric()]"
   ]
  },
  {
   "cell_type": "markdown",
   "metadata": {},
   "source": [
    "now, we need to change data type of kms_driven column (object to int)"
   ]
  },
  {
   "cell_type": "code",
   "execution_count": 31,
   "metadata": {},
   "outputs": [],
   "source": [
    "cars_df['kms_driven']=cars_df['kms_driven'].astype(int)"
   ]
  },
  {
   "cell_type": "code",
   "execution_count": 32,
   "metadata": {},
   "outputs": [
    {
     "name": "stdout",
     "output_type": "stream",
     "text": [
      "<class 'pandas.core.frame.DataFrame'>\n",
      "Int64Index: 817 entries, 0 to 889\n",
      "Data columns (total 6 columns):\n",
      " #   Column      Non-Null Count  Dtype \n",
      "---  ------      --------------  ----- \n",
      " 0   name        817 non-null    object\n",
      " 1   company     817 non-null    object\n",
      " 2   year        817 non-null    int32 \n",
      " 3   Price       817 non-null    int32 \n",
      " 4   kms_driven  817 non-null    int32 \n",
      " 5   fuel_type   816 non-null    object\n",
      "dtypes: int32(3), object(3)\n",
      "memory usage: 35.1+ KB\n"
     ]
    }
   ],
   "source": [
    "cars_df.info()"
   ]
  },
  {
   "cell_type": "code",
   "execution_count": 33,
   "metadata": {},
   "outputs": [],
   "source": [
    "cars_df=cars_df[~cars_df['fuel_type'].isna()]"
   ]
  },
  {
   "cell_type": "code",
   "execution_count": 34,
   "metadata": {},
   "outputs": [
    {
     "name": "stdout",
     "output_type": "stream",
     "text": [
      "<class 'pandas.core.frame.DataFrame'>\n",
      "Int64Index: 816 entries, 0 to 889\n",
      "Data columns (total 6 columns):\n",
      " #   Column      Non-Null Count  Dtype \n",
      "---  ------      --------------  ----- \n",
      " 0   name        816 non-null    object\n",
      " 1   company     816 non-null    object\n",
      " 2   year        816 non-null    int32 \n",
      " 3   Price       816 non-null    int32 \n",
      " 4   kms_driven  816 non-null    int32 \n",
      " 5   fuel_type   816 non-null    object\n",
      "dtypes: int32(3), object(3)\n",
      "memory usage: 35.1+ KB\n"
     ]
    }
   ],
   "source": [
    "cars_df.info()"
   ]
  },
  {
   "cell_type": "code",
   "execution_count": 35,
   "metadata": {},
   "outputs": [
    {
     "data": {
      "text/plain": [
       "0        Hyundai Santro Xing XO eRLX Euro III\n",
       "1                     Mahindra Jeep CL550 MDI\n",
       "2                  Maruti Suzuki Alto 800 Vxi\n",
       "3      Hyundai Grand i10 Magna 1.2 Kappa VTVT\n",
       "4            Ford EcoSport Titanium 1.5L TDCi\n",
       "                        ...                  \n",
       "887                                        Ta\n",
       "888                       Tata Zest XM Diesel\n",
       "889                        Mahindra Quanto C8\n",
       "890                  Honda Amaze 1.2 E i VTEC\n",
       "891                 Chevrolet Sail 1.2 LT ABS\n",
       "Name: name, Length: 892, dtype: object"
      ]
     },
     "execution_count": 35,
     "metadata": {},
     "output_type": "execute_result"
    }
   ],
   "source": [
    "backup['name']"
   ]
  },
  {
   "cell_type": "code",
   "execution_count": 36,
   "metadata": {},
   "outputs": [],
   "source": [
    "#how to work Split Method\n",
    "a=\"mango apple banana\""
   ]
  },
  {
   "cell_type": "code",
   "execution_count": 37,
   "metadata": {},
   "outputs": [
    {
     "data": {
      "text/plain": [
       "['mango', 'apple', 'banana']"
      ]
     },
     "execution_count": 37,
     "metadata": {},
     "output_type": "execute_result"
    }
   ],
   "source": [
    "a.split(\" \")"
   ]
  },
  {
   "cell_type": "markdown",
   "metadata": {},
   "source": [
    "in our name column we have too much unwanted data , so we will take first 3 word, so we need to apply split method   "
   ]
  },
  {
   "cell_type": "code",
   "execution_count": 38,
   "metadata": {},
   "outputs": [],
   "source": [
    "cars_df['name']=cars_df['name'].str.split(\" \").str.slice(0,3).str.join(\" \")"
   ]
  },
  {
   "cell_type": "code",
   "execution_count": 39,
   "metadata": {},
   "outputs": [
    {
     "data": {
      "text/plain": [
       "Int64Index([  0,   1,   3,   4,   6,   7,   8,   9,  10,  11,\n",
       "            ...\n",
       "            877, 878, 879, 880, 881, 883, 885, 886, 888, 889],\n",
       "           dtype='int64', length=816)"
      ]
     },
     "execution_count": 39,
     "metadata": {},
     "output_type": "execute_result"
    }
   ],
   "source": [
    "cars_df.index"
   ]
  },
  {
   "cell_type": "markdown",
   "metadata": {},
   "source": [
    "now,we remove all the nan value, so we need to reset our index ,but when we apply reset_index() method our dataset also contain  previous index"
   ]
  },
  {
   "cell_type": "code",
   "execution_count": 40,
   "metadata": {},
   "outputs": [
    {
     "data": {
      "text/html": [
       "<div>\n",
       "<style scoped>\n",
       "    .dataframe tbody tr th:only-of-type {\n",
       "        vertical-align: middle;\n",
       "    }\n",
       "\n",
       "    .dataframe tbody tr th {\n",
       "        vertical-align: top;\n",
       "    }\n",
       "\n",
       "    .dataframe thead th {\n",
       "        text-align: right;\n",
       "    }\n",
       "</style>\n",
       "<table border=\"1\" class=\"dataframe\">\n",
       "  <thead>\n",
       "    <tr style=\"text-align: right;\">\n",
       "      <th></th>\n",
       "      <th>index</th>\n",
       "      <th>name</th>\n",
       "      <th>company</th>\n",
       "      <th>year</th>\n",
       "      <th>Price</th>\n",
       "      <th>kms_driven</th>\n",
       "      <th>fuel_type</th>\n",
       "    </tr>\n",
       "  </thead>\n",
       "  <tbody>\n",
       "    <tr>\n",
       "      <th>0</th>\n",
       "      <td>0</td>\n",
       "      <td>Hyundai Santro Xing</td>\n",
       "      <td>Hyundai</td>\n",
       "      <td>2007</td>\n",
       "      <td>80000</td>\n",
       "      <td>45000</td>\n",
       "      <td>Petrol</td>\n",
       "    </tr>\n",
       "    <tr>\n",
       "      <th>1</th>\n",
       "      <td>1</td>\n",
       "      <td>Mahindra Jeep CL550</td>\n",
       "      <td>Mahindra</td>\n",
       "      <td>2006</td>\n",
       "      <td>425000</td>\n",
       "      <td>40</td>\n",
       "      <td>Diesel</td>\n",
       "    </tr>\n",
       "    <tr>\n",
       "      <th>2</th>\n",
       "      <td>3</td>\n",
       "      <td>Hyundai Grand i10</td>\n",
       "      <td>Hyundai</td>\n",
       "      <td>2014</td>\n",
       "      <td>325000</td>\n",
       "      <td>28000</td>\n",
       "      <td>Petrol</td>\n",
       "    </tr>\n",
       "    <tr>\n",
       "      <th>3</th>\n",
       "      <td>4</td>\n",
       "      <td>Ford EcoSport Titanium</td>\n",
       "      <td>Ford</td>\n",
       "      <td>2014</td>\n",
       "      <td>575000</td>\n",
       "      <td>36000</td>\n",
       "      <td>Diesel</td>\n",
       "    </tr>\n",
       "    <tr>\n",
       "      <th>4</th>\n",
       "      <td>6</td>\n",
       "      <td>Ford Figo</td>\n",
       "      <td>Ford</td>\n",
       "      <td>2012</td>\n",
       "      <td>175000</td>\n",
       "      <td>41000</td>\n",
       "      <td>Diesel</td>\n",
       "    </tr>\n",
       "    <tr>\n",
       "      <th>...</th>\n",
       "      <td>...</td>\n",
       "      <td>...</td>\n",
       "      <td>...</td>\n",
       "      <td>...</td>\n",
       "      <td>...</td>\n",
       "      <td>...</td>\n",
       "      <td>...</td>\n",
       "    </tr>\n",
       "    <tr>\n",
       "      <th>811</th>\n",
       "      <td>883</td>\n",
       "      <td>Maruti Suzuki Ritz</td>\n",
       "      <td>Maruti</td>\n",
       "      <td>2011</td>\n",
       "      <td>270000</td>\n",
       "      <td>50000</td>\n",
       "      <td>Petrol</td>\n",
       "    </tr>\n",
       "    <tr>\n",
       "      <th>812</th>\n",
       "      <td>885</td>\n",
       "      <td>Tata Indica V2</td>\n",
       "      <td>Tata</td>\n",
       "      <td>2009</td>\n",
       "      <td>110000</td>\n",
       "      <td>30000</td>\n",
       "      <td>Diesel</td>\n",
       "    </tr>\n",
       "    <tr>\n",
       "      <th>813</th>\n",
       "      <td>886</td>\n",
       "      <td>Toyota Corolla Altis</td>\n",
       "      <td>Toyota</td>\n",
       "      <td>2009</td>\n",
       "      <td>300000</td>\n",
       "      <td>132000</td>\n",
       "      <td>Petrol</td>\n",
       "    </tr>\n",
       "    <tr>\n",
       "      <th>814</th>\n",
       "      <td>888</td>\n",
       "      <td>Tata Zest XM</td>\n",
       "      <td>Tata</td>\n",
       "      <td>2018</td>\n",
       "      <td>260000</td>\n",
       "      <td>27000</td>\n",
       "      <td>Diesel</td>\n",
       "    </tr>\n",
       "    <tr>\n",
       "      <th>815</th>\n",
       "      <td>889</td>\n",
       "      <td>Mahindra Quanto C8</td>\n",
       "      <td>Mahindra</td>\n",
       "      <td>2013</td>\n",
       "      <td>390000</td>\n",
       "      <td>40000</td>\n",
       "      <td>Diesel</td>\n",
       "    </tr>\n",
       "  </tbody>\n",
       "</table>\n",
       "<p>816 rows × 7 columns</p>\n",
       "</div>"
      ],
      "text/plain": [
       "     index                    name   company  year   Price  kms_driven  \\\n",
       "0        0     Hyundai Santro Xing   Hyundai  2007   80000       45000   \n",
       "1        1     Mahindra Jeep CL550  Mahindra  2006  425000          40   \n",
       "2        3       Hyundai Grand i10   Hyundai  2014  325000       28000   \n",
       "3        4  Ford EcoSport Titanium      Ford  2014  575000       36000   \n",
       "4        6               Ford Figo      Ford  2012  175000       41000   \n",
       "..     ...                     ...       ...   ...     ...         ...   \n",
       "811    883      Maruti Suzuki Ritz    Maruti  2011  270000       50000   \n",
       "812    885          Tata Indica V2      Tata  2009  110000       30000   \n",
       "813    886    Toyota Corolla Altis    Toyota  2009  300000      132000   \n",
       "814    888            Tata Zest XM      Tata  2018  260000       27000   \n",
       "815    889      Mahindra Quanto C8  Mahindra  2013  390000       40000   \n",
       "\n",
       "    fuel_type  \n",
       "0      Petrol  \n",
       "1      Diesel  \n",
       "2      Petrol  \n",
       "3      Diesel  \n",
       "4      Diesel  \n",
       "..        ...  \n",
       "811    Petrol  \n",
       "812    Diesel  \n",
       "813    Petrol  \n",
       "814    Diesel  \n",
       "815    Diesel  \n",
       "\n",
       "[816 rows x 7 columns]"
      ]
     },
     "execution_count": 40,
     "metadata": {},
     "output_type": "execute_result"
    }
   ],
   "source": [
    "cars_df.reset_index()"
   ]
  },
  {
   "cell_type": "code",
   "execution_count": 41,
   "metadata": {},
   "outputs": [],
   "source": [
    "cars_df=cars_df.reset_index(drop=True)"
   ]
  },
  {
   "cell_type": "code",
   "execution_count": 42,
   "metadata": {},
   "outputs": [
    {
     "data": {
      "text/html": [
       "<div>\n",
       "<style scoped>\n",
       "    .dataframe tbody tr th:only-of-type {\n",
       "        vertical-align: middle;\n",
       "    }\n",
       "\n",
       "    .dataframe tbody tr th {\n",
       "        vertical-align: top;\n",
       "    }\n",
       "\n",
       "    .dataframe thead th {\n",
       "        text-align: right;\n",
       "    }\n",
       "</style>\n",
       "<table border=\"1\" class=\"dataframe\">\n",
       "  <thead>\n",
       "    <tr style=\"text-align: right;\">\n",
       "      <th></th>\n",
       "      <th>name</th>\n",
       "      <th>company</th>\n",
       "      <th>year</th>\n",
       "      <th>Price</th>\n",
       "      <th>kms_driven</th>\n",
       "      <th>fuel_type</th>\n",
       "    </tr>\n",
       "  </thead>\n",
       "  <tbody>\n",
       "    <tr>\n",
       "      <th>0</th>\n",
       "      <td>Hyundai Santro Xing</td>\n",
       "      <td>Hyundai</td>\n",
       "      <td>2007</td>\n",
       "      <td>80000</td>\n",
       "      <td>45000</td>\n",
       "      <td>Petrol</td>\n",
       "    </tr>\n",
       "    <tr>\n",
       "      <th>1</th>\n",
       "      <td>Mahindra Jeep CL550</td>\n",
       "      <td>Mahindra</td>\n",
       "      <td>2006</td>\n",
       "      <td>425000</td>\n",
       "      <td>40</td>\n",
       "      <td>Diesel</td>\n",
       "    </tr>\n",
       "    <tr>\n",
       "      <th>2</th>\n",
       "      <td>Hyundai Grand i10</td>\n",
       "      <td>Hyundai</td>\n",
       "      <td>2014</td>\n",
       "      <td>325000</td>\n",
       "      <td>28000</td>\n",
       "      <td>Petrol</td>\n",
       "    </tr>\n",
       "    <tr>\n",
       "      <th>3</th>\n",
       "      <td>Ford EcoSport Titanium</td>\n",
       "      <td>Ford</td>\n",
       "      <td>2014</td>\n",
       "      <td>575000</td>\n",
       "      <td>36000</td>\n",
       "      <td>Diesel</td>\n",
       "    </tr>\n",
       "    <tr>\n",
       "      <th>4</th>\n",
       "      <td>Ford Figo</td>\n",
       "      <td>Ford</td>\n",
       "      <td>2012</td>\n",
       "      <td>175000</td>\n",
       "      <td>41000</td>\n",
       "      <td>Diesel</td>\n",
       "    </tr>\n",
       "    <tr>\n",
       "      <th>...</th>\n",
       "      <td>...</td>\n",
       "      <td>...</td>\n",
       "      <td>...</td>\n",
       "      <td>...</td>\n",
       "      <td>...</td>\n",
       "      <td>...</td>\n",
       "    </tr>\n",
       "    <tr>\n",
       "      <th>811</th>\n",
       "      <td>Maruti Suzuki Ritz</td>\n",
       "      <td>Maruti</td>\n",
       "      <td>2011</td>\n",
       "      <td>270000</td>\n",
       "      <td>50000</td>\n",
       "      <td>Petrol</td>\n",
       "    </tr>\n",
       "    <tr>\n",
       "      <th>812</th>\n",
       "      <td>Tata Indica V2</td>\n",
       "      <td>Tata</td>\n",
       "      <td>2009</td>\n",
       "      <td>110000</td>\n",
       "      <td>30000</td>\n",
       "      <td>Diesel</td>\n",
       "    </tr>\n",
       "    <tr>\n",
       "      <th>813</th>\n",
       "      <td>Toyota Corolla Altis</td>\n",
       "      <td>Toyota</td>\n",
       "      <td>2009</td>\n",
       "      <td>300000</td>\n",
       "      <td>132000</td>\n",
       "      <td>Petrol</td>\n",
       "    </tr>\n",
       "    <tr>\n",
       "      <th>814</th>\n",
       "      <td>Tata Zest XM</td>\n",
       "      <td>Tata</td>\n",
       "      <td>2018</td>\n",
       "      <td>260000</td>\n",
       "      <td>27000</td>\n",
       "      <td>Diesel</td>\n",
       "    </tr>\n",
       "    <tr>\n",
       "      <th>815</th>\n",
       "      <td>Mahindra Quanto C8</td>\n",
       "      <td>Mahindra</td>\n",
       "      <td>2013</td>\n",
       "      <td>390000</td>\n",
       "      <td>40000</td>\n",
       "      <td>Diesel</td>\n",
       "    </tr>\n",
       "  </tbody>\n",
       "</table>\n",
       "<p>816 rows × 6 columns</p>\n",
       "</div>"
      ],
      "text/plain": [
       "                       name   company  year   Price  kms_driven fuel_type\n",
       "0       Hyundai Santro Xing   Hyundai  2007   80000       45000    Petrol\n",
       "1       Mahindra Jeep CL550  Mahindra  2006  425000          40    Diesel\n",
       "2         Hyundai Grand i10   Hyundai  2014  325000       28000    Petrol\n",
       "3    Ford EcoSport Titanium      Ford  2014  575000       36000    Diesel\n",
       "4                 Ford Figo      Ford  2012  175000       41000    Diesel\n",
       "..                      ...       ...   ...     ...         ...       ...\n",
       "811      Maruti Suzuki Ritz    Maruti  2011  270000       50000    Petrol\n",
       "812          Tata Indica V2      Tata  2009  110000       30000    Diesel\n",
       "813    Toyota Corolla Altis    Toyota  2009  300000      132000    Petrol\n",
       "814            Tata Zest XM      Tata  2018  260000       27000    Diesel\n",
       "815      Mahindra Quanto C8  Mahindra  2013  390000       40000    Diesel\n",
       "\n",
       "[816 rows x 6 columns]"
      ]
     },
     "execution_count": 42,
     "metadata": {},
     "output_type": "execute_result"
    }
   ],
   "source": [
    "cars_df"
   ]
  },
  {
   "cell_type": "code",
   "execution_count": 43,
   "metadata": {},
   "outputs": [
    {
     "data": {
      "text/plain": [
       "Index(['name', 'company', 'year', 'Price', 'kms_driven', 'fuel_type'], dtype='object')"
      ]
     },
     "execution_count": 43,
     "metadata": {},
     "output_type": "execute_result"
    }
   ],
   "source": [
    "cars_df.columns"
   ]
  },
  {
   "cell_type": "code",
   "execution_count": 44,
   "metadata": {},
   "outputs": [],
   "source": [
    "#from sklearn import preprocessing\n",
    "#label_encoder = preprocessing.LabelEncoder()\n",
    "#cars_df['name1']= label_encoder.fit_transform(cars_df['name'])\n",
    "#cars_df['company1']= label_encoder.fit_transform(cars_df['company'])\n",
    "#cars_df['fuel_type1']= label_encoder.fit_transform(cars_df['fuel_type'])"
   ]
  },
  {
   "cell_type": "code",
   "execution_count": 45,
   "metadata": {},
   "outputs": [
    {
     "data": {
      "text/html": [
       "<div>\n",
       "<style scoped>\n",
       "    .dataframe tbody tr th:only-of-type {\n",
       "        vertical-align: middle;\n",
       "    }\n",
       "\n",
       "    .dataframe tbody tr th {\n",
       "        vertical-align: top;\n",
       "    }\n",
       "\n",
       "    .dataframe thead th {\n",
       "        text-align: right;\n",
       "    }\n",
       "</style>\n",
       "<table border=\"1\" class=\"dataframe\">\n",
       "  <thead>\n",
       "    <tr style=\"text-align: right;\">\n",
       "      <th></th>\n",
       "      <th>year</th>\n",
       "      <th>Price</th>\n",
       "      <th>kms_driven</th>\n",
       "    </tr>\n",
       "  </thead>\n",
       "  <tbody>\n",
       "    <tr>\n",
       "      <th>year</th>\n",
       "      <td>1.000000</td>\n",
       "      <td>0.287193</td>\n",
       "      <td>-0.233695</td>\n",
       "    </tr>\n",
       "    <tr>\n",
       "      <th>Price</th>\n",
       "      <td>0.287193</td>\n",
       "      <td>1.000000</td>\n",
       "      <td>-0.120854</td>\n",
       "    </tr>\n",
       "    <tr>\n",
       "      <th>kms_driven</th>\n",
       "      <td>-0.233695</td>\n",
       "      <td>-0.120854</td>\n",
       "      <td>1.000000</td>\n",
       "    </tr>\n",
       "  </tbody>\n",
       "</table>\n",
       "</div>"
      ],
      "text/plain": [
       "                year     Price  kms_driven\n",
       "year        1.000000  0.287193   -0.233695\n",
       "Price       0.287193  1.000000   -0.120854\n",
       "kms_driven -0.233695 -0.120854    1.000000"
      ]
     },
     "execution_count": 45,
     "metadata": {},
     "output_type": "execute_result"
    }
   ],
   "source": [
    "cars_df.corr()"
   ]
  },
  {
   "cell_type": "code",
   "execution_count": 46,
   "metadata": {},
   "outputs": [
    {
     "data": {
      "text/html": [
       "<div>\n",
       "<style scoped>\n",
       "    .dataframe tbody tr th:only-of-type {\n",
       "        vertical-align: middle;\n",
       "    }\n",
       "\n",
       "    .dataframe tbody tr th {\n",
       "        vertical-align: top;\n",
       "    }\n",
       "\n",
       "    .dataframe thead th {\n",
       "        text-align: right;\n",
       "    }\n",
       "</style>\n",
       "<table border=\"1\" class=\"dataframe\">\n",
       "  <thead>\n",
       "    <tr style=\"text-align: right;\">\n",
       "      <th></th>\n",
       "      <th>year</th>\n",
       "      <th>Price</th>\n",
       "      <th>kms_driven</th>\n",
       "    </tr>\n",
       "  </thead>\n",
       "  <tbody>\n",
       "    <tr>\n",
       "      <th>count</th>\n",
       "      <td>816.000000</td>\n",
       "      <td>8.160000e+02</td>\n",
       "      <td>816.000000</td>\n",
       "    </tr>\n",
       "    <tr>\n",
       "      <th>mean</th>\n",
       "      <td>2012.444853</td>\n",
       "      <td>4.117176e+05</td>\n",
       "      <td>46275.531863</td>\n",
       "    </tr>\n",
       "    <tr>\n",
       "      <th>std</th>\n",
       "      <td>4.002992</td>\n",
       "      <td>4.751844e+05</td>\n",
       "      <td>34297.428044</td>\n",
       "    </tr>\n",
       "    <tr>\n",
       "      <th>min</th>\n",
       "      <td>1995.000000</td>\n",
       "      <td>3.000000e+04</td>\n",
       "      <td>0.000000</td>\n",
       "    </tr>\n",
       "    <tr>\n",
       "      <th>25%</th>\n",
       "      <td>2010.000000</td>\n",
       "      <td>1.750000e+05</td>\n",
       "      <td>27000.000000</td>\n",
       "    </tr>\n",
       "    <tr>\n",
       "      <th>50%</th>\n",
       "      <td>2013.000000</td>\n",
       "      <td>2.999990e+05</td>\n",
       "      <td>41000.000000</td>\n",
       "    </tr>\n",
       "    <tr>\n",
       "      <th>75%</th>\n",
       "      <td>2015.000000</td>\n",
       "      <td>4.912500e+05</td>\n",
       "      <td>56818.500000</td>\n",
       "    </tr>\n",
       "    <tr>\n",
       "      <th>max</th>\n",
       "      <td>2019.000000</td>\n",
       "      <td>8.500003e+06</td>\n",
       "      <td>400000.000000</td>\n",
       "    </tr>\n",
       "  </tbody>\n",
       "</table>\n",
       "</div>"
      ],
      "text/plain": [
       "              year         Price     kms_driven\n",
       "count   816.000000  8.160000e+02     816.000000\n",
       "mean   2012.444853  4.117176e+05   46275.531863\n",
       "std       4.002992  4.751844e+05   34297.428044\n",
       "min    1995.000000  3.000000e+04       0.000000\n",
       "25%    2010.000000  1.750000e+05   27000.000000\n",
       "50%    2013.000000  2.999990e+05   41000.000000\n",
       "75%    2015.000000  4.912500e+05   56818.500000\n",
       "max    2019.000000  8.500003e+06  400000.000000"
      ]
     },
     "execution_count": 46,
     "metadata": {},
     "output_type": "execute_result"
    }
   ],
   "source": [
    "cars_df.describe()"
   ]
  },
  {
   "cell_type": "code",
   "execution_count": 47,
   "metadata": {},
   "outputs": [
    {
     "data": {
      "text/plain": [
       "8500003"
      ]
     },
     "execution_count": 47,
     "metadata": {},
     "output_type": "execute_result"
    }
   ],
   "source": [
    "cars_df[\"Price\"].max()"
   ]
  },
  {
   "cell_type": "code",
   "execution_count": 48,
   "metadata": {},
   "outputs": [],
   "source": [
    "cars_df=cars_df[cars_df[\"Price\"]<=6000000]"
   ]
  },
  {
   "cell_type": "code",
   "execution_count": 49,
   "metadata": {},
   "outputs": [
    {
     "name": "stdout",
     "output_type": "stream",
     "text": [
      "<class 'pandas.core.frame.DataFrame'>\n",
      "Int64Index: 815 entries, 0 to 815\n",
      "Data columns (total 6 columns):\n",
      " #   Column      Non-Null Count  Dtype \n",
      "---  ------      --------------  ----- \n",
      " 0   name        815 non-null    object\n",
      " 1   company     815 non-null    object\n",
      " 2   year        815 non-null    int32 \n",
      " 3   Price       815 non-null    int32 \n",
      " 4   kms_driven  815 non-null    int32 \n",
      " 5   fuel_type   815 non-null    object\n",
      "dtypes: int32(3), object(3)\n",
      "memory usage: 35.0+ KB\n"
     ]
    }
   ],
   "source": [
    "cars_df.info()"
   ]
  },
  {
   "cell_type": "code",
   "execution_count": 50,
   "metadata": {},
   "outputs": [
    {
     "data": {
      "text/html": [
       "<div>\n",
       "<style scoped>\n",
       "    .dataframe tbody tr th:only-of-type {\n",
       "        vertical-align: middle;\n",
       "    }\n",
       "\n",
       "    .dataframe tbody tr th {\n",
       "        vertical-align: top;\n",
       "    }\n",
       "\n",
       "    .dataframe thead th {\n",
       "        text-align: right;\n",
       "    }\n",
       "</style>\n",
       "<table border=\"1\" class=\"dataframe\">\n",
       "  <thead>\n",
       "    <tr style=\"text-align: right;\">\n",
       "      <th></th>\n",
       "      <th>year</th>\n",
       "      <th>Price</th>\n",
       "      <th>kms_driven</th>\n",
       "    </tr>\n",
       "  </thead>\n",
       "  <tbody>\n",
       "    <tr>\n",
       "      <th>count</th>\n",
       "      <td>815.000000</td>\n",
       "      <td>8.150000e+02</td>\n",
       "      <td>815.000000</td>\n",
       "    </tr>\n",
       "    <tr>\n",
       "      <th>mean</th>\n",
       "      <td>2012.442945</td>\n",
       "      <td>4.017933e+05</td>\n",
       "      <td>46277.096933</td>\n",
       "    </tr>\n",
       "    <tr>\n",
       "      <th>std</th>\n",
       "      <td>4.005079</td>\n",
       "      <td>3.815888e+05</td>\n",
       "      <td>34318.459638</td>\n",
       "    </tr>\n",
       "    <tr>\n",
       "      <th>min</th>\n",
       "      <td>1995.000000</td>\n",
       "      <td>3.000000e+04</td>\n",
       "      <td>0.000000</td>\n",
       "    </tr>\n",
       "    <tr>\n",
       "      <th>25%</th>\n",
       "      <td>2010.000000</td>\n",
       "      <td>1.750000e+05</td>\n",
       "      <td>27000.000000</td>\n",
       "    </tr>\n",
       "    <tr>\n",
       "      <th>50%</th>\n",
       "      <td>2013.000000</td>\n",
       "      <td>2.999990e+05</td>\n",
       "      <td>41000.000000</td>\n",
       "    </tr>\n",
       "    <tr>\n",
       "      <th>75%</th>\n",
       "      <td>2015.000000</td>\n",
       "      <td>4.900000e+05</td>\n",
       "      <td>56879.000000</td>\n",
       "    </tr>\n",
       "    <tr>\n",
       "      <th>max</th>\n",
       "      <td>2019.000000</td>\n",
       "      <td>3.100000e+06</td>\n",
       "      <td>400000.000000</td>\n",
       "    </tr>\n",
       "  </tbody>\n",
       "</table>\n",
       "</div>"
      ],
      "text/plain": [
       "              year         Price     kms_driven\n",
       "count   815.000000  8.150000e+02     815.000000\n",
       "mean   2012.442945  4.017933e+05   46277.096933\n",
       "std       4.005079  3.815888e+05   34318.459638\n",
       "min    1995.000000  3.000000e+04       0.000000\n",
       "25%    2010.000000  1.750000e+05   27000.000000\n",
       "50%    2013.000000  2.999990e+05   41000.000000\n",
       "75%    2015.000000  4.900000e+05   56879.000000\n",
       "max    2019.000000  3.100000e+06  400000.000000"
      ]
     },
     "execution_count": 50,
     "metadata": {},
     "output_type": "execute_result"
    }
   ],
   "source": [
    "cars_df.describe()"
   ]
  },
  {
   "cell_type": "markdown",
   "metadata": {},
   "source": [
    "now,we need to save all our work, so we will dump our data into a csv file"
   ]
  },
  {
   "cell_type": "code",
   "execution_count": 51,
   "metadata": {},
   "outputs": [],
   "source": [
    "cars_df.to_csv(\"C:/Users/archa/car price prediction/Cleaned car.csv\")"
   ]
  },
  {
   "cell_type": "code",
   "execution_count": 52,
   "metadata": {},
   "outputs": [
    {
     "data": {
      "text/html": [
       "<div>\n",
       "<style scoped>\n",
       "    .dataframe tbody tr th:only-of-type {\n",
       "        vertical-align: middle;\n",
       "    }\n",
       "\n",
       "    .dataframe tbody tr th {\n",
       "        vertical-align: top;\n",
       "    }\n",
       "\n",
       "    .dataframe thead th {\n",
       "        text-align: right;\n",
       "    }\n",
       "</style>\n",
       "<table border=\"1\" class=\"dataframe\">\n",
       "  <thead>\n",
       "    <tr style=\"text-align: right;\">\n",
       "      <th></th>\n",
       "      <th>year</th>\n",
       "      <th>Price</th>\n",
       "      <th>kms_driven</th>\n",
       "    </tr>\n",
       "  </thead>\n",
       "  <tbody>\n",
       "    <tr>\n",
       "      <th>year</th>\n",
       "      <td>1.000000</td>\n",
       "      <td>0.347764</td>\n",
       "      <td>-0.233699</td>\n",
       "    </tr>\n",
       "    <tr>\n",
       "      <th>Price</th>\n",
       "      <td>0.347764</td>\n",
       "      <td>1.000000</td>\n",
       "      <td>-0.149621</td>\n",
       "    </tr>\n",
       "    <tr>\n",
       "      <th>kms_driven</th>\n",
       "      <td>-0.233699</td>\n",
       "      <td>-0.149621</td>\n",
       "      <td>1.000000</td>\n",
       "    </tr>\n",
       "  </tbody>\n",
       "</table>\n",
       "</div>"
      ],
      "text/plain": [
       "                year     Price  kms_driven\n",
       "year        1.000000  0.347764   -0.233699\n",
       "Price       0.347764  1.000000   -0.149621\n",
       "kms_driven -0.233699 -0.149621    1.000000"
      ]
     },
     "execution_count": 52,
     "metadata": {},
     "output_type": "execute_result"
    }
   ],
   "source": [
    "cars_df.corr()"
   ]
  },
  {
   "cell_type": "markdown",
   "metadata": {},
   "source": [
    "Now we analyse our data in ghraphical format"
   ]
  },
  {
   "cell_type": "code",
   "execution_count": 56,
   "metadata": {},
   "outputs": [
    {
     "data": {
      "image/png": "[encoded data removed]",
      "text/plain": [
       "<Figure size 360x360 with 1 Axes>"
      ]
     },
     "metadata": {
      "needs_background": "light"
     },
     "output_type": "display_data"
    }
   ],
   "source": [
    "cars_df['fuel_type'].value_counts(normalize=True).plot.bar(figsize=(5,5), title='fuel_type')\n",
    "plt.show()"
   ]
  },
  {
   "cell_type": "code",
   "execution_count": 90,
   "metadata": {},
   "outputs": [
    {
     "data": {
      "image/png": "[encoded data removed]",
      "text/plain": [
       "<Figure size 360x360 with 1 Axes>"
      ]
     },
     "metadata": {
      "needs_background": "light"
     },
     "output_type": "display_data"
    }
   ],
   "source": [
    "cars_df['fuel_type'].value_counts().plot.bar(figsize=(5,5), title='fuel_type')\n",
    "plt.show()"
   ]
  },
  {
   "cell_type": "code",
   "execution_count": 73,
   "metadata": {},
   "outputs": [
    {
     "data": {
      "image/png": "[encoded data removed]",
      "text/plain": [
       "<Figure size 1440x360 with 1 Axes>"
      ]
     },
     "metadata": {
      "needs_background": "light"
     },
     "output_type": "display_data"
    }
   ],
   "source": [
    "cars_df['year'].value_counts(normalize=True).plot.bar(figsize=(20,5), title='year')\n",
    "plt.show()"
   ]
  },
  {
   "cell_type": "code",
   "execution_count": 88,
   "metadata": {},
   "outputs": [
    {
     "data": {
      "image/png": "[encoded data removed]",
      "text/plain": [
       "<Figure size 1080x360 with 1 Axes>"
      ]
     },
     "metadata": {
      "needs_background": "light"
     },
     "output_type": "display_data"
    }
   ],
   "source": [
    "cars_df['company'].value_counts(normalize=True).plot.bar(figsize=(15,5), title='company name')\n",
    "plt.show()"
   ]
  },
  {
   "cell_type": "code",
   "execution_count": 89,
   "metadata": {},
   "outputs": [
    {
     "data": {
      "image/png": "[encoded data removed]",
      "text/plain": [
       "<Figure size 1080x360 with 1 Axes>"
      ]
     },
     "metadata": {
      "needs_background": "light"
     },
     "output_type": "display_data"
    }
   ],
   "source": [
    "cars_df['company'].value_counts().plot.bar(figsize=(15,5), title='company name')\n",
    "plt.show()"
   ]
  },
  {
   "cell_type": "code",
   "execution_count": 131,
   "metadata": {},
   "outputs": [
    {
     "data": {
      "text/html": [
       "<div>\n",
       "<style scoped>\n",
       "    .dataframe tbody tr th:only-of-type {\n",
       "        vertical-align: middle;\n",
       "    }\n",
       "\n",
       "    .dataframe tbody tr th {\n",
       "        vertical-align: top;\n",
       "    }\n",
       "\n",
       "    .dataframe thead th {\n",
       "        text-align: right;\n",
       "    }\n",
       "</style>\n",
       "<table border=\"1\" class=\"dataframe\">\n",
       "  <thead>\n",
       "    <tr style=\"text-align: right;\">\n",
       "      <th></th>\n",
       "      <th>year</th>\n",
       "      <th>Price</th>\n",
       "      <th>kms_driven</th>\n",
       "    </tr>\n",
       "  </thead>\n",
       "  <tbody>\n",
       "    <tr>\n",
       "      <th>year</th>\n",
       "      <td>1.000000</td>\n",
       "      <td>0.347764</td>\n",
       "      <td>-0.233699</td>\n",
       "    </tr>\n",
       "    <tr>\n",
       "      <th>Price</th>\n",
       "      <td>0.347764</td>\n",
       "      <td>1.000000</td>\n",
       "      <td>-0.149621</td>\n",
       "    </tr>\n",
       "    <tr>\n",
       "      <th>kms_driven</th>\n",
       "      <td>-0.233699</td>\n",
       "      <td>-0.149621</td>\n",
       "      <td>1.000000</td>\n",
       "    </tr>\n",
       "  </tbody>\n",
       "</table>\n",
       "</div>"
      ],
      "text/plain": [
       "                year     Price  kms_driven\n",
       "year        1.000000  0.347764   -0.233699\n",
       "Price       0.347764  1.000000   -0.149621\n",
       "kms_driven -0.233699 -0.149621    1.000000"
      ]
     },
     "execution_count": 131,
     "metadata": {},
     "output_type": "execute_result"
    }
   ],
   "source": [
    "cars_df.corr()"
   ]
  },
  {
   "cell_type": "code",
   "execution_count": 91,
   "metadata": {},
   "outputs": [
    {
     "data": {
      "text/plain": [
       "Index(['name', 'company', 'year', 'Price', 'kms_driven', 'fuel_type'], dtype='object')"
      ]
     },
     "execution_count": 91,
     "metadata": {},
     "output_type": "execute_result"
    }
   ],
   "source": [
    "cars_df.columns"
   ]
  },
  {
   "cell_type": "code",
   "execution_count": 133,
   "metadata": {},
   "outputs": [],
   "source": [
    "#grp_f_c = cars_df.groupby(['fuel_type', 'company'])\n",
    "#grp_f_c.first()\n",
    "grp_f_c = cars_df.groupby(['fuel_type','company']).count()"
   ]
  },
  {
   "cell_type": "code",
   "execution_count": 134,
   "metadata": {},
   "outputs": [],
   "source": [
    "ndf=grp_f_c"
   ]
  },
  {
   "cell_type": "code",
   "execution_count": 135,
   "metadata": {},
   "outputs": [
    {
     "data": {
      "text/plain": [
       "Index(['name', 'year', 'Price', 'kms_driven'], dtype='object')"
      ]
     },
     "execution_count": 135,
     "metadata": {},
     "output_type": "execute_result"
    }
   ],
   "source": [
    "ndf.columns"
   ]
  },
  {
   "cell_type": "code",
   "execution_count": 136,
   "metadata": {},
   "outputs": [
    {
     "data": {
      "text/plain": [
       "pandas.core.frame.DataFrame"
      ]
     },
     "execution_count": 136,
     "metadata": {},
     "output_type": "execute_result"
    }
   ],
   "source": [
    "type(grp_f_c)"
   ]
  },
  {
   "cell_type": "code",
   "execution_count": 127,
   "metadata": {},
   "outputs": [
    {
     "data": {
      "text/html": [
       "<div>\n",
       "<style scoped>\n",
       "    .dataframe tbody tr th:only-of-type {\n",
       "        vertical-align: middle;\n",
       "    }\n",
       "\n",
       "    .dataframe tbody tr th {\n",
       "        vertical-align: top;\n",
       "    }\n",
       "\n",
       "    .dataframe thead th {\n",
       "        text-align: right;\n",
       "    }\n",
       "</style>\n",
       "<table border=\"1\" class=\"dataframe\">\n",
       "  <thead>\n",
       "    <tr style=\"text-align: right;\">\n",
       "      <th></th>\n",
       "      <th></th>\n",
       "      <th>name</th>\n",
       "      <th>year</th>\n",
       "      <th>Price</th>\n",
       "      <th>kms_driven</th>\n",
       "    </tr>\n",
       "    <tr>\n",
       "      <th>fuel_type</th>\n",
       "      <th>company</th>\n",
       "      <th></th>\n",
       "      <th></th>\n",
       "      <th></th>\n",
       "      <th></th>\n",
       "    </tr>\n",
       "  </thead>\n",
       "  <tbody>\n",
       "    <tr>\n",
       "      <th rowspan=\"23\" valign=\"top\">Diesel</th>\n",
       "      <th>Audi</th>\n",
       "      <td>7</td>\n",
       "      <td>7</td>\n",
       "      <td>7</td>\n",
       "      <td>7</td>\n",
       "    </tr>\n",
       "    <tr>\n",
       "      <th>BMW</th>\n",
       "      <td>5</td>\n",
       "      <td>5</td>\n",
       "      <td>5</td>\n",
       "      <td>5</td>\n",
       "    </tr>\n",
       "    <tr>\n",
       "      <th>Chevrolet</th>\n",
       "      <td>21</td>\n",
       "      <td>21</td>\n",
       "      <td>21</td>\n",
       "      <td>21</td>\n",
       "    </tr>\n",
       "    <tr>\n",
       "      <th>Fiat</th>\n",
       "      <td>1</td>\n",
       "      <td>1</td>\n",
       "      <td>1</td>\n",
       "      <td>1</td>\n",
       "    </tr>\n",
       "    <tr>\n",
       "      <th>Force</th>\n",
       "      <td>4</td>\n",
       "      <td>4</td>\n",
       "      <td>4</td>\n",
       "      <td>4</td>\n",
       "    </tr>\n",
       "    <tr>\n",
       "      <th>Ford</th>\n",
       "      <td>19</td>\n",
       "      <td>19</td>\n",
       "      <td>19</td>\n",
       "      <td>19</td>\n",
       "    </tr>\n",
       "    <tr>\n",
       "      <th>Hindustan</th>\n",
       "      <td>2</td>\n",
       "      <td>2</td>\n",
       "      <td>2</td>\n",
       "      <td>2</td>\n",
       "    </tr>\n",
       "    <tr>\n",
       "      <th>Honda</th>\n",
       "      <td>15</td>\n",
       "      <td>15</td>\n",
       "      <td>15</td>\n",
       "      <td>15</td>\n",
       "    </tr>\n",
       "    <tr>\n",
       "      <th>Hyundai</th>\n",
       "      <td>27</td>\n",
       "      <td>27</td>\n",
       "      <td>27</td>\n",
       "      <td>27</td>\n",
       "    </tr>\n",
       "    <tr>\n",
       "      <th>Jaguar</th>\n",
       "      <td>1</td>\n",
       "      <td>1</td>\n",
       "      <td>1</td>\n",
       "      <td>1</td>\n",
       "    </tr>\n",
       "    <tr>\n",
       "      <th>Jeep</th>\n",
       "      <td>1</td>\n",
       "      <td>1</td>\n",
       "      <td>1</td>\n",
       "      <td>1</td>\n",
       "    </tr>\n",
       "    <tr>\n",
       "      <th>Land</th>\n",
       "      <td>1</td>\n",
       "      <td>1</td>\n",
       "      <td>1</td>\n",
       "      <td>1</td>\n",
       "    </tr>\n",
       "    <tr>\n",
       "      <th>Mahindra</th>\n",
       "      <td>94</td>\n",
       "      <td>94</td>\n",
       "      <td>94</td>\n",
       "      <td>94</td>\n",
       "    </tr>\n",
       "    <tr>\n",
       "      <th>Maruti</th>\n",
       "      <td>60</td>\n",
       "      <td>60</td>\n",
       "      <td>60</td>\n",
       "      <td>60</td>\n",
       "    </tr>\n",
       "    <tr>\n",
       "      <th>Mercedes</th>\n",
       "      <td>2</td>\n",
       "      <td>2</td>\n",
       "      <td>2</td>\n",
       "      <td>2</td>\n",
       "    </tr>\n",
       "    <tr>\n",
       "      <th>Mitsubishi</th>\n",
       "      <td>4</td>\n",
       "      <td>4</td>\n",
       "      <td>4</td>\n",
       "      <td>4</td>\n",
       "    </tr>\n",
       "    <tr>\n",
       "      <th>Nissan</th>\n",
       "      <td>3</td>\n",
       "      <td>3</td>\n",
       "      <td>3</td>\n",
       "      <td>3</td>\n",
       "    </tr>\n",
       "    <tr>\n",
       "      <th>Renault</th>\n",
       "      <td>25</td>\n",
       "      <td>25</td>\n",
       "      <td>25</td>\n",
       "      <td>25</td>\n",
       "    </tr>\n",
       "    <tr>\n",
       "      <th>Skoda</th>\n",
       "      <td>9</td>\n",
       "      <td>9</td>\n",
       "      <td>9</td>\n",
       "      <td>9</td>\n",
       "    </tr>\n",
       "    <tr>\n",
       "      <th>Tata</th>\n",
       "      <td>50</td>\n",
       "      <td>50</td>\n",
       "      <td>50</td>\n",
       "      <td>50</td>\n",
       "    </tr>\n",
       "    <tr>\n",
       "      <th>Toyota</th>\n",
       "      <td>20</td>\n",
       "      <td>20</td>\n",
       "      <td>20</td>\n",
       "      <td>20</td>\n",
       "    </tr>\n",
       "    <tr>\n",
       "      <th>Volkswagen</th>\n",
       "      <td>13</td>\n",
       "      <td>13</td>\n",
       "      <td>13</td>\n",
       "      <td>13</td>\n",
       "    </tr>\n",
       "    <tr>\n",
       "      <th>Volvo</th>\n",
       "      <td>1</td>\n",
       "      <td>1</td>\n",
       "      <td>1</td>\n",
       "      <td>1</td>\n",
       "    </tr>\n",
       "    <tr>\n",
       "      <th>LPG</th>\n",
       "      <th>Maruti</th>\n",
       "      <td>2</td>\n",
       "      <td>2</td>\n",
       "      <td>2</td>\n",
       "      <td>2</td>\n",
       "    </tr>\n",
       "    <tr>\n",
       "      <th rowspan=\"21\" valign=\"top\">Petrol</th>\n",
       "      <th>Audi</th>\n",
       "      <td>4</td>\n",
       "      <td>4</td>\n",
       "      <td>4</td>\n",
       "      <td>4</td>\n",
       "    </tr>\n",
       "    <tr>\n",
       "      <th>BMW</th>\n",
       "      <td>3</td>\n",
       "      <td>3</td>\n",
       "      <td>3</td>\n",
       "      <td>3</td>\n",
       "    </tr>\n",
       "    <tr>\n",
       "      <th>Chevrolet</th>\n",
       "      <td>13</td>\n",
       "      <td>13</td>\n",
       "      <td>13</td>\n",
       "      <td>13</td>\n",
       "    </tr>\n",
       "    <tr>\n",
       "      <th>Datsun</th>\n",
       "      <td>7</td>\n",
       "      <td>7</td>\n",
       "      <td>7</td>\n",
       "      <td>7</td>\n",
       "    </tr>\n",
       "    <tr>\n",
       "      <th>Fiat</th>\n",
       "      <td>3</td>\n",
       "      <td>3</td>\n",
       "      <td>3</td>\n",
       "      <td>3</td>\n",
       "    </tr>\n",
       "    <tr>\n",
       "      <th>Ford</th>\n",
       "      <td>11</td>\n",
       "      <td>11</td>\n",
       "      <td>11</td>\n",
       "      <td>11</td>\n",
       "    </tr>\n",
       "    <tr>\n",
       "      <th>Hindustan</th>\n",
       "      <td>1</td>\n",
       "      <td>1</td>\n",
       "      <td>1</td>\n",
       "      <td>1</td>\n",
       "    </tr>\n",
       "    <tr>\n",
       "      <th>Honda</th>\n",
       "      <td>45</td>\n",
       "      <td>45</td>\n",
       "      <td>45</td>\n",
       "      <td>45</td>\n",
       "    </tr>\n",
       "    <tr>\n",
       "      <th>Hyundai</th>\n",
       "      <td>112</td>\n",
       "      <td>112</td>\n",
       "      <td>112</td>\n",
       "      <td>112</td>\n",
       "    </tr>\n",
       "    <tr>\n",
       "      <th>Jaguar</th>\n",
       "      <td>1</td>\n",
       "      <td>1</td>\n",
       "      <td>1</td>\n",
       "      <td>1</td>\n",
       "    </tr>\n",
       "    <tr>\n",
       "      <th>Mahindra</th>\n",
       "      <td>3</td>\n",
       "      <td>3</td>\n",
       "      <td>3</td>\n",
       "      <td>3</td>\n",
       "    </tr>\n",
       "    <tr>\n",
       "      <th>Maruti</th>\n",
       "      <td>159</td>\n",
       "      <td>159</td>\n",
       "      <td>159</td>\n",
       "      <td>159</td>\n",
       "    </tr>\n",
       "    <tr>\n",
       "      <th>Mercedes</th>\n",
       "      <td>4</td>\n",
       "      <td>4</td>\n",
       "      <td>4</td>\n",
       "      <td>4</td>\n",
       "    </tr>\n",
       "    <tr>\n",
       "      <th>Mini</th>\n",
       "      <td>8</td>\n",
       "      <td>8</td>\n",
       "      <td>8</td>\n",
       "      <td>8</td>\n",
       "    </tr>\n",
       "    <tr>\n",
       "      <th>Mitsubishi</th>\n",
       "      <td>2</td>\n",
       "      <td>2</td>\n",
       "      <td>2</td>\n",
       "      <td>2</td>\n",
       "    </tr>\n",
       "    <tr>\n",
       "      <th>Nissan</th>\n",
       "      <td>3</td>\n",
       "      <td>3</td>\n",
       "      <td>3</td>\n",
       "      <td>3</td>\n",
       "    </tr>\n",
       "    <tr>\n",
       "      <th>Renault</th>\n",
       "      <td>8</td>\n",
       "      <td>8</td>\n",
       "      <td>8</td>\n",
       "      <td>8</td>\n",
       "    </tr>\n",
       "    <tr>\n",
       "      <th>Skoda</th>\n",
       "      <td>4</td>\n",
       "      <td>4</td>\n",
       "      <td>4</td>\n",
       "      <td>4</td>\n",
       "    </tr>\n",
       "    <tr>\n",
       "      <th>Tata</th>\n",
       "      <td>15</td>\n",
       "      <td>15</td>\n",
       "      <td>15</td>\n",
       "      <td>15</td>\n",
       "    </tr>\n",
       "    <tr>\n",
       "      <th>Toyota</th>\n",
       "      <td>16</td>\n",
       "      <td>16</td>\n",
       "      <td>16</td>\n",
       "      <td>16</td>\n",
       "    </tr>\n",
       "    <tr>\n",
       "      <th>Volkswagen</th>\n",
       "      <td>6</td>\n",
       "      <td>6</td>\n",
       "      <td>6</td>\n",
       "      <td>6</td>\n",
       "    </tr>\n",
       "  </tbody>\n",
       "</table>\n",
       "</div>"
      ],
      "text/plain": [
       "                      name  year  Price  kms_driven\n",
       "fuel_type company                                  \n",
       "Diesel    Audi           7     7      7           7\n",
       "          BMW            5     5      5           5\n",
       "          Chevrolet     21    21     21          21\n",
       "          Fiat           1     1      1           1\n",
       "          Force          4     4      4           4\n",
       "          Ford          19    19     19          19\n",
       "          Hindustan      2     2      2           2\n",
       "          Honda         15    15     15          15\n",
       "          Hyundai       27    27     27          27\n",
       "          Jaguar         1     1      1           1\n",
       "          Jeep           1     1      1           1\n",
       "          Land           1     1      1           1\n",
       "          Mahindra      94    94     94          94\n",
       "          Maruti        60    60     60          60\n",
       "          Mercedes       2     2      2           2\n",
       "          Mitsubishi     4     4      4           4\n",
       "          Nissan         3     3      3           3\n",
       "          Renault       25    25     25          25\n",
       "          Skoda          9     9      9           9\n",
       "          Tata          50    50     50          50\n",
       "          Toyota        20    20     20          20\n",
       "          Volkswagen    13    13     13          13\n",
       "          Volvo          1     1      1           1\n",
       "LPG       Maruti         2     2      2           2\n",
       "Petrol    Audi           4     4      4           4\n",
       "          BMW            3     3      3           3\n",
       "          Chevrolet     13    13     13          13\n",
       "          Datsun         7     7      7           7\n",
       "          Fiat           3     3      3           3\n",
       "          Ford          11    11     11          11\n",
       "          Hindustan      1     1      1           1\n",
       "          Honda         45    45     45          45\n",
       "          Hyundai      112   112    112         112\n",
       "          Jaguar         1     1      1           1\n",
       "          Mahindra       3     3      3           3\n",
       "          Maruti       159   159    159         159\n",
       "          Mercedes       4     4      4           4\n",
       "          Mini           8     8      8           8\n",
       "          Mitsubishi     2     2      2           2\n",
       "          Nissan         3     3      3           3\n",
       "          Renault        8     8      8           8\n",
       "          Skoda          4     4      4           4\n",
       "          Tata          15    15     15          15\n",
       "          Toyota        16    16     16          16\n",
       "          Volkswagen     6     6      6           6"
      ]
     },
     "execution_count": 127,
     "metadata": {},
     "output_type": "execute_result"
    }
   ],
   "source": [
    "grp_f_c"
   ]
  },
  {
   "cell_type": "markdown",
   "metadata": {},
   "source": [
    "# Create the Model"
   ]
  },
  {
   "cell_type": "code",
   "execution_count": 58,
   "metadata": {},
   "outputs": [],
   "source": [
    "x= cars_df.drop(columns='Price')\n",
    "y=cars_df['Price']"
   ]
  },
  {
   "cell_type": "code",
   "execution_count": 59,
   "metadata": {},
   "outputs": [
    {
     "data": {
      "text/plain": [
       "Index(['name', 'company', 'year', 'kms_driven', 'fuel_type'], dtype='object')"
      ]
     },
     "execution_count": 59,
     "metadata": {},
     "output_type": "execute_result"
    }
   ],
   "source": [
    "x.columns"
   ]
  },
  {
   "cell_type": "code",
   "execution_count": 60,
   "metadata": {},
   "outputs": [],
   "source": [
    "#x=cars_df[['year', 'kms_driven', 'name1',\n",
    "#       'company1', 'fuel_type1']]"
   ]
  },
  {
   "cell_type": "code",
   "execution_count": 61,
   "metadata": {},
   "outputs": [
    {
     "data": {
      "text/html": [
       "<div>\n",
       "<style scoped>\n",
       "    .dataframe tbody tr th:only-of-type {\n",
       "        vertical-align: middle;\n",
       "    }\n",
       "\n",
       "    .dataframe tbody tr th {\n",
       "        vertical-align: top;\n",
       "    }\n",
       "\n",
       "    .dataframe thead th {\n",
       "        text-align: right;\n",
       "    }\n",
       "</style>\n",
       "<table border=\"1\" class=\"dataframe\">\n",
       "  <thead>\n",
       "    <tr style=\"text-align: right;\">\n",
       "      <th></th>\n",
       "      <th>name</th>\n",
       "      <th>company</th>\n",
       "      <th>year</th>\n",
       "      <th>kms_driven</th>\n",
       "      <th>fuel_type</th>\n",
       "    </tr>\n",
       "  </thead>\n",
       "  <tbody>\n",
       "    <tr>\n",
       "      <th>0</th>\n",
       "      <td>Hyundai Santro Xing</td>\n",
       "      <td>Hyundai</td>\n",
       "      <td>2007</td>\n",
       "      <td>45000</td>\n",
       "      <td>Petrol</td>\n",
       "    </tr>\n",
       "    <tr>\n",
       "      <th>1</th>\n",
       "      <td>Mahindra Jeep CL550</td>\n",
       "      <td>Mahindra</td>\n",
       "      <td>2006</td>\n",
       "      <td>40</td>\n",
       "      <td>Diesel</td>\n",
       "    </tr>\n",
       "    <tr>\n",
       "      <th>2</th>\n",
       "      <td>Hyundai Grand i10</td>\n",
       "      <td>Hyundai</td>\n",
       "      <td>2014</td>\n",
       "      <td>28000</td>\n",
       "      <td>Petrol</td>\n",
       "    </tr>\n",
       "    <tr>\n",
       "      <th>3</th>\n",
       "      <td>Ford EcoSport Titanium</td>\n",
       "      <td>Ford</td>\n",
       "      <td>2014</td>\n",
       "      <td>36000</td>\n",
       "      <td>Diesel</td>\n",
       "    </tr>\n",
       "    <tr>\n",
       "      <th>4</th>\n",
       "      <td>Ford Figo</td>\n",
       "      <td>Ford</td>\n",
       "      <td>2012</td>\n",
       "      <td>41000</td>\n",
       "      <td>Diesel</td>\n",
       "    </tr>\n",
       "  </tbody>\n",
       "</table>\n",
       "</div>"
      ],
      "text/plain": [
       "                     name   company  year  kms_driven fuel_type\n",
       "0     Hyundai Santro Xing   Hyundai  2007       45000    Petrol\n",
       "1     Mahindra Jeep CL550  Mahindra  2006          40    Diesel\n",
       "2       Hyundai Grand i10   Hyundai  2014       28000    Petrol\n",
       "3  Ford EcoSport Titanium      Ford  2014       36000    Diesel\n",
       "4               Ford Figo      Ford  2012       41000    Diesel"
      ]
     },
     "execution_count": 61,
     "metadata": {},
     "output_type": "execute_result"
    }
   ],
   "source": [
    "x.head()"
   ]
  },
  {
   "cell_type": "code",
   "execution_count": 62,
   "metadata": {},
   "outputs": [],
   "source": [
    "from sklearn.model_selection import train_test_split\n",
    "x_train,x_test,y_train,y_test=train_test_split(x,y,test_size=0.2)"
   ]
  },
  {
   "cell_type": "code",
   "execution_count": 63,
   "metadata": {},
   "outputs": [],
   "source": [
    "from sklearn.linear_model import LinearRegression\n",
    "from sklearn.metrics import r2_score\n",
    "from sklearn.preprocessing import OneHotEncoder\n",
    "from sklearn.compose import make_column_transformer\n",
    "from sklearn.pipeline import make_pipeline"
   ]
  },
  {
   "cell_type": "markdown",
   "metadata": {},
   "source": [
    "ordinal encoding: In ordinal encoding, each unique category value is assigned an integer value.\n",
    "\n",
    "For example, “red” is 1, “green” is 2, and “blue” is 3.\n",
    "\n",
    "This is called an ordinal encoding or an integer encoding and is easily reversible. \n",
    "\n",
    "one-hot encoding: a one-hot encoding can be applied to the ordinal representation. This is where the integer encoded variable is removed and one new binary variable is added for each unique integer value in the variable.\n",
    "\n",
    "Each bit represents a possible category. If the variable cannot belong to multiple categories at once, then only one bit in the group can be “on.” This is called one-hot encoding …"
   ]
  },
  {
   "cell_type": "code",
   "execution_count": 64,
   "metadata": {},
   "outputs": [
    {
     "data": {
      "text/plain": [
       "OneHotEncoder()"
      ]
     },
     "execution_count": 64,
     "metadata": {},
     "output_type": "execute_result"
    }
   ],
   "source": [
    "ohe=OneHotEncoder()\n",
    "ohe.fit(x[['name','company','fuel_type']])\n"
   ]
  },
  {
   "cell_type": "code",
   "execution_count": 65,
   "metadata": {},
   "outputs": [
    {
     "data": {
      "text/plain": [
       "[array(['Audi A3 Cabriolet', 'Audi A4 1.8', 'Audi A4 2.0', 'Audi A6 2.0',\n",
       "        'Audi A8', 'Audi Q3 2.0', 'Audi Q5 2.0', 'Audi Q7', 'BMW 3 Series',\n",
       "        'BMW 5 Series', 'BMW 7 Series', 'BMW X1', 'BMW X1 sDrive20d',\n",
       "        'BMW X1 xDrive20d', 'Chevrolet Beat', 'Chevrolet Beat Diesel',\n",
       "        'Chevrolet Beat LS', 'Chevrolet Beat LT', 'Chevrolet Beat PS',\n",
       "        'Chevrolet Cruze LTZ', 'Chevrolet Enjoy', 'Chevrolet Enjoy 1.4',\n",
       "        'Chevrolet Sail 1.2', 'Chevrolet Sail UVA', 'Chevrolet Spark',\n",
       "        'Chevrolet Spark 1.0', 'Chevrolet Spark LS', 'Chevrolet Spark LT',\n",
       "        'Chevrolet Tavera LS', 'Chevrolet Tavera Neo', 'Datsun GO T',\n",
       "        'Datsun Go Plus', 'Datsun Redi GO', 'Fiat Linea Emotion',\n",
       "        'Fiat Petra ELX', 'Fiat Punto Emotion', 'Force Motors Force',\n",
       "        'Force Motors One', 'Ford EcoSport', 'Ford EcoSport Ambiente',\n",
       "        'Ford EcoSport Titanium', 'Ford EcoSport Trend',\n",
       "        'Ford Endeavor 4x4', 'Ford Fiesta', 'Ford Fiesta SXi', 'Ford Figo',\n",
       "        'Ford Figo Diesel', 'Ford Figo Duratorq', 'Ford Figo Petrol',\n",
       "        'Ford Fusion 1.4', 'Ford Ikon 1.3', 'Ford Ikon 1.6',\n",
       "        'Hindustan Motors Ambassador', 'Honda Accord', 'Honda Amaze',\n",
       "        'Honda Amaze 1.2', 'Honda Amaze 1.5', 'Honda Brio', 'Honda Brio V',\n",
       "        'Honda Brio VX', 'Honda City', 'Honda City 1.5', 'Honda City SV',\n",
       "        'Honda City VX', 'Honda City ZX', 'Honda Jazz S', 'Honda Jazz VX',\n",
       "        'Honda Mobilio', 'Honda Mobilio S', 'Honda WR V', 'Hyundai Accent',\n",
       "        'Hyundai Accent Executive', 'Hyundai Accent GLE',\n",
       "        'Hyundai Accent GLX', 'Hyundai Creta', 'Hyundai Creta 1.6',\n",
       "        'Hyundai Elantra 1.8', 'Hyundai Elantra SX', 'Hyundai Elite i20',\n",
       "        'Hyundai Eon', 'Hyundai Eon D', 'Hyundai Eon Era',\n",
       "        'Hyundai Eon Magna', 'Hyundai Eon Sportz', 'Hyundai Fluidic Verna',\n",
       "        'Hyundai Getz', 'Hyundai Getz GLE', 'Hyundai Getz Prime',\n",
       "        'Hyundai Grand i10', 'Hyundai Santro', 'Hyundai Santro AE',\n",
       "        'Hyundai Santro Xing', 'Hyundai Sonata Transform', 'Hyundai Verna',\n",
       "        'Hyundai Verna 1.4', 'Hyundai Verna 1.6', 'Hyundai Verna Fluidic',\n",
       "        'Hyundai Verna Transform', 'Hyundai Verna VGT',\n",
       "        'Hyundai Xcent Base', 'Hyundai Xcent SX', 'Hyundai i10',\n",
       "        'Hyundai i10 Era', 'Hyundai i10 Magna', 'Hyundai i10 Sportz',\n",
       "        'Hyundai i20', 'Hyundai i20 Active', 'Hyundai i20 Asta',\n",
       "        'Hyundai i20 Magna', 'Hyundai i20 Select', 'Hyundai i20 Sportz',\n",
       "        'Jaguar XE XE', 'Jaguar XF 2.2', 'Jeep Wrangler Unlimited',\n",
       "        'Land Rover Freelander', 'Mahindra Bolero DI',\n",
       "        'Mahindra Bolero Power', 'Mahindra Bolero SLE',\n",
       "        'Mahindra Jeep CL550', 'Mahindra Jeep MM', 'Mahindra KUV100',\n",
       "        'Mahindra KUV100 K8', 'Mahindra Logan', 'Mahindra Logan Diesel',\n",
       "        'Mahindra Quanto C4', 'Mahindra Quanto C8', 'Mahindra Scorpio',\n",
       "        'Mahindra Scorpio 2.6', 'Mahindra Scorpio LX',\n",
       "        'Mahindra Scorpio S10', 'Mahindra Scorpio S4',\n",
       "        'Mahindra Scorpio SLE', 'Mahindra Scorpio SLX',\n",
       "        'Mahindra Scorpio VLX', 'Mahindra Scorpio Vlx',\n",
       "        'Mahindra Scorpio W', 'Mahindra TUV300 T4', 'Mahindra TUV300 T8',\n",
       "        'Mahindra Thar CRDe', 'Mahindra XUV500', 'Mahindra XUV500 W10',\n",
       "        'Mahindra XUV500 W6', 'Mahindra XUV500 W8', 'Mahindra Xylo D2',\n",
       "        'Mahindra Xylo E4', 'Mahindra Xylo E8', 'Maruti Suzuki 800',\n",
       "        'Maruti Suzuki A', 'Maruti Suzuki Alto', 'Maruti Suzuki Baleno',\n",
       "        'Maruti Suzuki Celerio', 'Maruti Suzuki Ciaz',\n",
       "        'Maruti Suzuki Dzire', 'Maruti Suzuki Eeco',\n",
       "        'Maruti Suzuki Ertiga', 'Maruti Suzuki Esteem',\n",
       "        'Maruti Suzuki Estilo', 'Maruti Suzuki Maruti',\n",
       "        'Maruti Suzuki Omni', 'Maruti Suzuki Ritz', 'Maruti Suzuki S',\n",
       "        'Maruti Suzuki SX4', 'Maruti Suzuki Stingray',\n",
       "        'Maruti Suzuki Swift', 'Maruti Suzuki Versa',\n",
       "        'Maruti Suzuki Vitara', 'Maruti Suzuki Wagon', 'Maruti Suzuki Zen',\n",
       "        'Mercedes Benz A', 'Mercedes Benz B', 'Mercedes Benz C',\n",
       "        'Mercedes Benz GLA', 'Mini Cooper S', 'Mitsubishi Lancer 1.8',\n",
       "        'Mitsubishi Pajero Sport', 'Nissan Micra XL', 'Nissan Micra XV',\n",
       "        'Nissan Sunny', 'Nissan Sunny XL', 'Nissan Terrano XL',\n",
       "        'Nissan X Trail', 'Renault Duster', 'Renault Duster 110',\n",
       "        'Renault Duster 110PS', 'Renault Duster 85', 'Renault Duster 85PS',\n",
       "        'Renault Duster RxL', 'Renault Kwid', 'Renault Kwid 1.0',\n",
       "        'Renault Kwid RXT', 'Renault Lodgy 85', 'Renault Scala RxL',\n",
       "        'Skoda Fabia', 'Skoda Fabia 1.2L', 'Skoda Fabia Classic',\n",
       "        'Skoda Laura', 'Skoda Octavia Classic', 'Skoda Rapid Elegance',\n",
       "        'Skoda Superb 1.8', 'Skoda Yeti Ambition', 'Tata Aria Pleasure',\n",
       "        'Tata Bolt XM', 'Tata Indica', 'Tata Indica V2', 'Tata Indica eV2',\n",
       "        'Tata Indigo CS', 'Tata Indigo LS', 'Tata Indigo LX',\n",
       "        'Tata Indigo Marina', 'Tata Indigo eCS', 'Tata Manza',\n",
       "        'Tata Manza Aqua', 'Tata Manza Aura', 'Tata Manza ELAN',\n",
       "        'Tata Nano', 'Tata Nano Cx', 'Tata Nano GenX', 'Tata Nano LX',\n",
       "        'Tata Nano Lx', 'Tata Sumo Gold', 'Tata Sumo Grande',\n",
       "        'Tata Sumo Victa', 'Tata Tiago Revotorq', 'Tata Tiago Revotron',\n",
       "        'Tata Tigor Revotron', 'Tata Venture EX', 'Tata Vista Quadrajet',\n",
       "        'Tata Zest Quadrajet', 'Tata Zest XE', 'Tata Zest XM',\n",
       "        'Toyota Corolla', 'Toyota Corolla Altis', 'Toyota Corolla H2',\n",
       "        'Toyota Etios', 'Toyota Etios G', 'Toyota Etios GD',\n",
       "        'Toyota Etios Liva', 'Toyota Fortuner', 'Toyota Fortuner 3.0',\n",
       "        'Toyota Innova 2.0', 'Toyota Innova 2.5', 'Toyota Qualis',\n",
       "        'Volkswagen Jetta Comfortline', 'Volkswagen Jetta Highline',\n",
       "        'Volkswagen Passat Diesel', 'Volkswagen Polo',\n",
       "        'Volkswagen Polo Comfortline', 'Volkswagen Polo Highline',\n",
       "        'Volkswagen Polo Highline1.2L', 'Volkswagen Polo Trendline',\n",
       "        'Volkswagen Vento Comfortline', 'Volkswagen Vento Highline',\n",
       "        'Volkswagen Vento Konekt', 'Volvo S80 Summum'], dtype=object),\n",
       " array(['Audi', 'BMW', 'Chevrolet', 'Datsun', 'Fiat', 'Force', 'Ford',\n",
       "        'Hindustan', 'Honda', 'Hyundai', 'Jaguar', 'Jeep', 'Land',\n",
       "        'Mahindra', 'Maruti', 'Mercedes', 'Mini', 'Mitsubishi', 'Nissan',\n",
       "        'Renault', 'Skoda', 'Tata', 'Toyota', 'Volkswagen', 'Volvo'],\n",
       "       dtype=object),\n",
       " array(['Diesel', 'LPG', 'Petrol'], dtype=object)]"
      ]
     },
     "execution_count": 65,
     "metadata": {},
     "output_type": "execute_result"
    }
   ],
   "source": [
    "#it show all tha categories in our dataset(in array formate)\n",
    "ohe.categories_ "
   ]
  },
  {
   "cell_type": "code",
   "execution_count": 66,
   "metadata": {},
   "outputs": [],
   "source": [
    "#when x_test has some different data that are not present in x_train, on that time pipe will through error msg\n",
    "#for avoiding these kind of error we pass this:OneHotEncoder(categories=ohe.categories_)\n",
    "columns_trans=make_column_transformer((OneHotEncoder(categories=ohe.categories_),['name','company','fuel_type']), remainder=\"passthrough\")\n"
   ]
  },
  {
   "cell_type": "code",
   "execution_count": 67,
   "metadata": {},
   "outputs": [
    {
     "data": {
      "text/plain": [
       "ColumnTransformer(remainder='passthrough',\n",
       "                  transformers=[('onehotencoder',\n",
       "                                 OneHotEncoder(categories=[array(['Audi A3 Cabriolet', 'Audi A4 1.8', 'Audi A4 2.0', 'Audi A6 2.0',\n",
       "       'Audi A8', 'Audi Q3 2.0', 'Audi Q5 2.0', 'Audi Q7', 'BMW 3 Series',\n",
       "       'BMW 5 Series', 'BMW 7 Series', 'BMW X1', 'BMW X1 sDrive20d',\n",
       "       'BMW X1 xDrive20d', 'Chevrolet Beat', 'Chevrolet Beat Diesel',\n",
       "       'Chevrolet Beat LS', 'Chevrolet B...\n",
       "       'Volkswagen Vento Konekt', 'Volvo S80 Summum'], dtype=object),\n",
       "                                                           array(['Audi', 'BMW', 'Chevrolet', 'Datsun', 'Fiat', 'Force', 'Ford',\n",
       "       'Hindustan', 'Honda', 'Hyundai', 'Jaguar', 'Jeep', 'Land',\n",
       "       'Mahindra', 'Maruti', 'Mercedes', 'Mini', 'Mitsubishi', 'Nissan',\n",
       "       'Renault', 'Skoda', 'Tata', 'Toyota', 'Volkswagen', 'Volvo'],\n",
       "      dtype=object),\n",
       "                                                           array(['Diesel', 'LPG', 'Petrol'], dtype=object)]),\n",
       "                                 ['name', 'company', 'fuel_type'])])"
      ]
     },
     "execution_count": 67,
     "metadata": {},
     "output_type": "execute_result"
    }
   ],
   "source": [
    "columns_trans"
   ]
  },
  {
   "cell_type": "markdown",
   "metadata": {},
   "source": [
    "Linear Regression is a machine learning algorithm based on supervised learning. It performs a regression task. Regression models a target prediction value based on independent variables. It is mostly used for finding out the relationship between variables and forecasting.   "
   ]
  },
  {
   "cell_type": "code",
   "execution_count": 101,
   "metadata": {},
   "outputs": [],
   "source": [
    "lr=LinearRegression()  "
   ]
  },
  {
   "cell_type": "code",
   "execution_count": 102,
   "metadata": {},
   "outputs": [],
   "source": [
    "#we can pass any row data,this function will first applying onehotencoder and then predict the output  \n",
    "model=make_pipeline(columns_trans,lr)"
   ]
  },
  {
   "cell_type": "code",
   "execution_count": 103,
   "metadata": {},
   "outputs": [
    {
     "data": {
      "text/plain": [
       "Pipeline(steps=[('columntransformer',\n",
       "                 ColumnTransformer(remainder='passthrough',\n",
       "                                   transformers=[('onehotencoder',\n",
       "                                                  OneHotEncoder(categories=[array(['Audi A3 Cabriolet', 'Audi A4 1.8', 'Audi A4 2.0', 'Audi A6 2.0',\n",
       "       'Audi A8', 'Audi Q3 2.0', 'Audi Q5 2.0', 'Audi Q7', 'BMW 3 Series',\n",
       "       'BMW 5 Series', 'BMW 7 Series', 'BMW X1', 'BMW X1 sDrive20d',\n",
       "       'BMW X1 xDrive20d', 'Chevrolet Beat', 'Chevrolet Beat...\n",
       "                                                                            array(['Audi', 'BMW', 'Chevrolet', 'Datsun', 'Fiat', 'Force', 'Ford',\n",
       "       'Hindustan', 'Honda', 'Hyundai', 'Jaguar', 'Jeep', 'Land',\n",
       "       'Mahindra', 'Maruti', 'Mercedes', 'Mini', 'Mitsubishi', 'Nissan',\n",
       "       'Renault', 'Skoda', 'Tata', 'Toyota', 'Volkswagen', 'Volvo'],\n",
       "      dtype=object),\n",
       "                                                                            array(['Diesel', 'LPG', 'Petrol'], dtype=object)]),\n",
       "                                                  ['name', 'company',\n",
       "                                                   'fuel_type'])])),\n",
       "                ('linearregression', LinearRegression())])"
      ]
     },
     "execution_count": 103,
     "metadata": {},
     "output_type": "execute_result"
    }
   ],
   "source": [
    "model.fit(x_train,y_train)"
   ]
  },
  {
   "cell_type": "code",
   "execution_count": 104,
   "metadata": {},
   "outputs": [],
   "source": [
    "y_pred=model.predict(x_test)"
   ]
  },
  {
   "cell_type": "code",
   "execution_count": 244,
   "metadata": {},
   "outputs": [
    {
     "data": {
      "text/plain": [
       "array([ -39442.81131644,  294667.27097654,  121803.58033088,\n",
       "        537216.20623612,  194608.49015445,  302366.54775515,\n",
       "        457468.88695881,  223010.54562104,  597115.97983405,\n",
       "        113659.05646784,  396316.60387965,  213610.56462907,\n",
       "        242141.61342755,  219322.87435507,  605124.83132927,\n",
       "        315160.59105216,  588971.28084145,  539969.34778127,\n",
       "        345374.00912816,  251161.85292733,  454115.77343779,\n",
       "        101300.7807251 ,  212364.26006492,  139617.28441419,\n",
       "        214733.9005606 ,  239340.54360058,  144710.49929721,\n",
       "       1505041.07131245,  615784.18331321,  560095.23671731,\n",
       "        403847.26211386,  -22483.35379642,  276012.81658307,\n",
       "       1394526.95044465,  153578.14867542,  389612.81205801,\n",
       "        265690.52884451,  765820.04330599,  214692.9809005 ,\n",
       "        157958.71658577,  342332.66977793,  116572.61139508,\n",
       "        233322.14895418,  317980.92912684,  236517.1298858 ,\n",
       "        182887.3207348 ,  236689.56772932,  605350.4936673 ,\n",
       "        450907.39126839,  329915.72753317,  373603.5876182 ,\n",
       "        572754.58973289,  322935.79984018,  258091.23942565,\n",
       "        119498.99204964,  272321.59282105, 1043639.33483224,\n",
       "        383239.61683125,  595098.95410497,  177450.87385554,\n",
       "        421294.00241294,  315212.8242193 ,  226307.85090382,\n",
       "        531019.49526616,   58943.46955948,  220657.69784648,\n",
       "        187460.02295017, 1370009.46033783,  476035.27150934,\n",
       "         81815.79538726,  301375.73194458,  165078.69657397,\n",
       "         81815.79538726,  278819.68421989,  278149.75067879,\n",
       "        415026.58943032,  205950.18964262,   21147.95410182,\n",
       "        308069.61956429,  332180.70183932,  344097.73582226,\n",
       "        217868.48703097, 1892477.32980204,  251433.82652134,\n",
       "       1435592.67720057,  707248.45588633,  508502.60092333,\n",
       "        334000.91628024,  528716.21948611,  443147.12452044,\n",
       "        462635.77425074,  -62072.00949045,  181587.71109988,\n",
       "        293537.78178906,  235799.97634482,  579090.82669047,\n",
       "        211607.76283865,  478819.2715677 ,  584023.50662357,\n",
       "        494437.40259861,   96419.90172029,   71457.6079749 ,\n",
       "        649067.59735874,  202095.7914794 ,  447904.51334433,\n",
       "        493542.11029229,  162190.30168106,  507408.971162  ,\n",
       "        541427.27454676,  724735.40300301,   87808.71587495,\n",
       "        530083.12158923,  128975.2576233 ,  349153.65452061,\n",
       "         65318.07254262,  402010.06112635,  528854.7000692 ,\n",
       "        466432.33926486,  339618.11416072,  690223.52652534,\n",
       "        157919.76415537,  471838.03776457,  616639.02555455,\n",
       "        677744.06698288,  113221.49541517,  564230.48602607,\n",
       "        451362.63189264,  567992.40423768,  261633.59924749,\n",
       "        431710.17622878,   26433.22563125,  132061.19025435,\n",
       "        869679.57551101,  299153.44116326,    9413.55663436,\n",
       "        260768.36382771,  251859.9467622 ,  507408.971162  ,\n",
       "        349119.59905516,  247129.28241659,  443147.12452044,\n",
       "        345092.88041507,   51434.45047175,  721280.68586831,\n",
       "        398543.58060685,  904467.33543832, 1477291.36366661,\n",
       "        499149.54652654, 1892339.67272479,  316223.90246505,\n",
       "        272351.88770593,  261671.51603625,  270500.42164291,\n",
       "        205714.08649413,  133617.31320774,  429277.85876855,\n",
       "        170489.11009804,  256180.31181084,  242684.61653735,\n",
       "        339641.0081947 ,  489816.09002691,  244069.30556732,\n",
       "        400834.19437242])"
      ]
     },
     "execution_count": 244,
     "metadata": {},
     "output_type": "execute_result"
    }
   ],
   "source": [
    "y_pred"
   ]
  },
  {
   "cell_type": "code",
   "execution_count": 105,
   "metadata": {},
   "outputs": [
    {
     "data": {
      "text/plain": [
       "0.6107647841570307"
      ]
     },
     "execution_count": 105,
     "metadata": {},
     "output_type": "execute_result"
    }
   ],
   "source": [
    "r2_score(y_test,y_pred)"
   ]
  },
  {
   "cell_type": "code",
   "execution_count": 106,
   "metadata": {},
   "outputs": [
    {
     "name": "stdout",
     "output_type": "stream",
     "text": [
      "0.762600955916067 0\n",
      "0.5604901706685078 1\n",
      "0.8032656589712205 2\n",
      "0.6812967388686224 3\n",
      "0.7566845129346844 4\n",
      "0.5901203440120129 5\n",
      "0.5861722667585405 6\n",
      "0.540643576812933 7\n",
      "0.7704828120451989 8\n",
      "0.7858701096205659 9\n"
     ]
    }
   ],
   "source": [
    "for i in range(10):\n",
    "    x_train,x_test,y_train,y_test=train_test_split(x,y,test_size=0.2)\n",
    "    model=make_pipeline(columns_trans,lr)\n",
    "    model.fit(x_train,y_train)\n",
    "    y_pred=model.predict(x_test)\n",
    "    print(r2_score(y_test,y_pred),i)"
   ]
  },
  {
   "cell_type": "code",
   "execution_count": 107,
   "metadata": {},
   "outputs": [],
   "source": [
    "score=[]\n",
    "for i in range(1000):\n",
    "    x_train,x_test,y_train,y_test=train_test_split(x,y,test_size=0.2,random_state=i)\n",
    "    model=make_pipeline(columns_trans,lr)\n",
    "    model.fit(x_train,y_train)\n",
    "    y_pred=model.predict(x_test)\n",
    "    #printqw=(r2_score(y_test,y_pred),i)\n",
    "    result=(r2_score(y_test,y_pred))\n",
    "    score.append(result)"
   ]
  },
  {
   "cell_type": "code",
   "execution_count": 258,
   "metadata": {},
   "outputs": [
    {
     "data": {
      "text/plain": [
       "[(0.7851438430969959, 0),\n",
       " (0.5133135805637714, 1),\n",
       " (0.6892790625522022, 2),\n",
       " (0.5995083318337382, 3),\n",
       " (0.8538671282398225, 4),\n",
       " (0.7471859950146672, 5),\n",
       " (0.6257427936663227, 6),\n",
       " (0.685966146007482, 7),\n",
       " (0.7645992182097278, 8),\n",
       " (0.7310605022881699, 9),\n",
       " (0.7654819181556001, 10),\n",
       " (0.7341361554345014, 11),\n",
       " (0.5285812284486553, 12),\n",
       " (0.7808598555448028, 13),\n",
       " (0.7117438696816341, 14),\n",
       " (0.741540321848185, 15),\n",
       " (0.5182511538877357, 16),\n",
       " (0.7431813542931995, 17),\n",
       " (0.6922761092068438, 18),\n",
       " (0.6663713233140169, 19),\n",
       " (0.6626431366856882, 20),\n",
       " (0.6596943200882615, 21),\n",
       " (0.7954299194764375, 22),\n",
       " (0.6949287005556742, 23),\n",
       " (0.6238151712978919, 24),\n",
       " (0.5543376410798648, 25),\n",
       " (0.7012202821723339, 26),\n",
       " (0.8065632592011327, 27),\n",
       " (0.820321638333376, 28),\n",
       " (0.5885079935645245, 29),\n",
       " (0.6062823542865085, 30),\n",
       " (0.6545488017490317, 31),\n",
       " (0.8021711636173231, 32),\n",
       " (0.8199608028409113, 33),\n",
       " (0.5838843332521155, 34),\n",
       " (0.6876480440365367, 35),\n",
       " (0.6410265354738603, 36),\n",
       " (0.7366255541508504, 37),\n",
       " (0.7158006058777091, 38),\n",
       " (0.7967666858061547, 39),\n",
       " (0.3873891049958149, 40),\n",
       " (0.6742530782745509, 41),\n",
       " (0.6427823808408553, 42),\n",
       " (0.7470847302110117, 43),\n",
       " (0.7504383806496875, 44),\n",
       " (0.7803644379257829, 45),\n",
       " (0.6222773588285594, 46),\n",
       " (0.6012189896993956, 47),\n",
       " (0.8515877244388782, 48),\n",
       " (0.7314332310745981, 49),\n",
       " (0.569846228574918, 50),\n",
       " (0.5876678392600516, 51),\n",
       " (0.7465312836172749, 52),\n",
       " (0.7845376498471904, 53),\n",
       " (0.7152680816600702, 54),\n",
       " (0.7170596621957575, 55),\n",
       " (0.7945918446686195, 56),\n",
       " (0.7765295019001449, 57),\n",
       " (0.7886889923713831, 58),\n",
       " (0.6148069353740111, 59),\n",
       " (0.6379321449401629, 60),\n",
       " (0.5817424394561945, 61),\n",
       " (0.4480323739747455, 62),\n",
       " (0.6722114995464655, 63),\n",
       " (0.6628838808045742, 64),\n",
       " (0.632464434546953, 65),\n",
       " (0.4980744500137315, 66),\n",
       " (0.7190989357631534, 67),\n",
       " (0.6499954561371744, 68),\n",
       " (0.7882190334092846, 69),\n",
       " (0.7494402117840069, 70),\n",
       " (0.7601036770733557, 71),\n",
       " (0.6760206607784719, 72),\n",
       " (0.7476055032613347, 73),\n",
       " (0.6432726782874103, 74),\n",
       " (0.6716348271322958, 75),\n",
       " (0.5394895447593122, 76),\n",
       " (0.586468169890178, 77),\n",
       " (0.7658188334083617, 78),\n",
       " (0.7458510137101413, 79),\n",
       " (0.6662335422938741, 80),\n",
       " (0.6427521818498834, 81),\n",
       " (0.7178284128557463, 82),\n",
       " (0.7653743026109444, 83),\n",
       " (0.7290101887654924, 84),\n",
       " (0.6278106126932497, 85),\n",
       " (0.7990741241055479, 86),\n",
       " (0.7147803730414224, 87),\n",
       " (0.697488035198494, 88),\n",
       " (0.6928017667750932, 89),\n",
       " (0.7383035211507919, 90),\n",
       " (0.6155453106473374, 91),\n",
       " (0.7738627667788349, 92),\n",
       " (0.48527227654433003, 93),\n",
       " (0.7091072885760062, 94),\n",
       " (0.7082783165685358, 95),\n",
       " (0.6477566703895385, 96),\n",
       " (0.7558263385960228, 97),\n",
       " (0.772284916114196, 98),\n",
       " (0.676415582974221, 99),\n",
       " (0.7138045552729808, 100),\n",
       " (0.7604020445508047, 101),\n",
       " (0.7224555212667041, 102),\n",
       " (0.6791113095637494, 103),\n",
       " (0.7207123704084777, 104),\n",
       " (0.6126654933803953, 105),\n",
       " (0.6659336278751047, 106),\n",
       " (0.5845417014655419, 107),\n",
       " (0.7560593259805123, 108),\n",
       " (0.8071226072397276, 109),\n",
       " (0.7658871689173119, 110),\n",
       " (0.662758469894788, 111),\n",
       " (0.625592142048805, 112),\n",
       " (0.7470554847692112, 113),\n",
       " (0.7428270298415343, 114),\n",
       " (0.6569390167888731, 115),\n",
       " (0.6951334158802662, 116),\n",
       " (0.6662131930578097, 117),\n",
       " (0.5569704258743888, 118),\n",
       " (0.8270424405004648, 119),\n",
       " (0.8131752367700719, 120),\n",
       " (0.705080066935253, 121),\n",
       " (0.755206298536088, 122),\n",
       " (0.7134028398447889, 123),\n",
       " (0.8894508631036218, 124),\n",
       " (0.7666277811693306, 125),\n",
       " (0.6249672114382108, 126),\n",
       " (0.6141157674645112, 127),\n",
       " (0.5889653617456151, 128),\n",
       " (0.6900241994658254, 129),\n",
       " (0.6367687027888067, 130),\n",
       " (0.5716031463145208, 131),\n",
       " (0.7282141412904559, 132),\n",
       " (0.6907726691791797, 133),\n",
       " (0.8537942418247948, 134),\n",
       " (0.8527615740603565, 135),\n",
       " (0.5835743509815913, 136),\n",
       " (0.7974491604408644, 137),\n",
       " (0.7218576220714824, 138),\n",
       " (0.5864719799712461, 139),\n",
       " (0.820101554950684, 140),\n",
       " (0.6768062283141774, 141),\n",
       " (0.6875765946955104, 142),\n",
       " (0.7465470321453439, 143),\n",
       " (0.6633787007309389, 144),\n",
       " (0.5552069158561419, 145),\n",
       " (0.7337049401064346, 146),\n",
       " (0.7340277296781939, 147),\n",
       " (0.7097044495089961, 148),\n",
       " (0.672916694990641, 149),\n",
       " (0.7679589460416691, 150),\n",
       " (0.8560870309170996, 151),\n",
       " (0.6611041174018045, 152),\n",
       " (0.5359897858021038, 153),\n",
       " (0.6355005718785905, 154),\n",
       " (0.7464009332983822, 155),\n",
       " (0.49753299498452874, 156),\n",
       " (0.8007575705730733, 157),\n",
       " (0.6676101615451155, 158),\n",
       " (0.7647948510812477, 159),\n",
       " (0.696238304809345, 160),\n",
       " (0.7271120957968497, 161),\n",
       " (0.6854572286995865, 162),\n",
       " (0.7293332476837435, 163),\n",
       " (0.6728688065906077, 164),\n",
       " (0.7818865211016726, 165),\n",
       " (0.6646969836391257, 166),\n",
       " (0.5293012509710404, 167),\n",
       " (0.6407657302087046, 168),\n",
       " (0.7034657764056536, 169),\n",
       " (0.7100763751548307, 170),\n",
       " (0.6977785942294534, 171),\n",
       " (0.8718771553579718, 172),\n",
       " (0.7626801062720592, 173),\n",
       " (0.5733113241033503, 174),\n",
       " (0.674304517940982, 175),\n",
       " (0.7897634542521353, 176),\n",
       " (0.728219966778244, 177),\n",
       " (0.7703595205292646, 178),\n",
       " (0.775754227985596, 179),\n",
       " (0.7485588848424178, 180),\n",
       " (0.7046359264813826, 181),\n",
       " (0.7199040451510815, 182),\n",
       " (0.6890636508105621, 183),\n",
       " (0.510824088741362, 184),\n",
       " (0.7580805214669084, 185),\n",
       " (0.722289911263028, 186),\n",
       " (0.7287334381399558, 187),\n",
       " (0.7309150514004171, 188),\n",
       " (0.6552742730983704, 189),\n",
       " (0.7316547944081568, 190),\n",
       " (0.7300658099511861, 191),\n",
       " (0.6955653658893317, 192),\n",
       " (0.7757973012045926, 193),\n",
       " (0.8004357384530347, 194),\n",
       " (0.6528082091711717, 195),\n",
       " (0.7065260843815384, 196),\n",
       " (0.812669009654961, 197),\n",
       " (0.4728515959590017, 198),\n",
       " (0.8343233871526793, 199),\n",
       " (0.7139370664673986, 200),\n",
       " (0.4839167358268215, 201),\n",
       " (0.6296479640194792, 202),\n",
       " (0.8326220988033627, 203),\n",
       " (0.666133111759877, 204),\n",
       " (0.7620549488552455, 205),\n",
       " (0.8005262417357285, 206),\n",
       " (0.5877669457708273, 207),\n",
       " (0.7609986419161563, 208),\n",
       " (0.5765963571500026, 209),\n",
       " (0.5129171627959738, 210),\n",
       " (0.599242586743181, 211),\n",
       " (0.6055514521001462, 212),\n",
       " (0.7263985998264992, 213),\n",
       " (0.709877710784953, 214),\n",
       " (0.777100545855604, 215),\n",
       " (0.5469909908919257, 216),\n",
       " (0.6668022986803389, 217),\n",
       " (0.6337725280224424, 218),\n",
       " (0.6251587347697725, 219),\n",
       " (0.5950923677333748, 220),\n",
       " (0.7524344813105159, 221),\n",
       " (0.4867854323869615, 222),\n",
       " (0.5066328037971721, 223),\n",
       " (0.6204546108098465, 224),\n",
       " (0.8106681822152833, 225),\n",
       " (0.7474865278451018, 226),\n",
       " (0.6580453258228598, 227),\n",
       " (0.7930369610129893, 228),\n",
       " (0.5793450955372212, 229),\n",
       " (0.6413005765883852, 230),\n",
       " (0.6193359128414773, 231),\n",
       " (0.685915318984252, 232),\n",
       " (0.6071507939761837, 233),\n",
       " (0.7721334667758437, 234),\n",
       " (0.7609763198090822, 235),\n",
       " (0.7081167687268665, 236),\n",
       " (0.6134840421147234, 237),\n",
       " (0.5919234767254579, 238),\n",
       " (0.5981012440784763, 239),\n",
       " (0.6147900298791019, 240),\n",
       " (0.47927042319903823, 241),\n",
       " (0.585953796749888, 242),\n",
       " (0.6605717666542794, 243),\n",
       " (0.48727569109941893, 244),\n",
       " (0.7961802882278469, 245),\n",
       " (0.8515312403266955, 246),\n",
       " (0.7884598135261851, 247),\n",
       " (0.7823047910369434, 248),\n",
       " (0.5729950042774052, 249),\n",
       " (0.6431309451405838, 250),\n",
       " (0.5322313340820988, 251),\n",
       " (0.6020174897820998, 252),\n",
       " (0.7864328506084748, 253),\n",
       " (0.5787844849214508, 254),\n",
       " (0.8068997052667958, 255),\n",
       " (0.6750791956994662, 256),\n",
       " (0.761768543753671, 257),\n",
       " (0.655648041949664, 258),\n",
       " (0.6130291621486987, 259),\n",
       " (0.7642123537960593, 260),\n",
       " (0.8075854715802882, 261),\n",
       " (0.7887508807360569, 262),\n",
       " (0.756241593001594, 263),\n",
       " (0.6953121328797807, 264),\n",
       " (0.7114313357455728, 265),\n",
       " (0.7170118543018525, 266),\n",
       " (0.7682798867028234, 267),\n",
       " (0.602519058958755, 268),\n",
       " (0.5380310073134638, 269),\n",
       " (0.7257338983781272, 270),\n",
       " (0.5753674710975984, 271),\n",
       " (0.6891653360464256, 272),\n",
       " (0.7223843588711372, 273),\n",
       " (0.7744906348582425, 274),\n",
       " (0.6512228072275414, 275),\n",
       " (0.8179709628122036, 276),\n",
       " (0.7414964295818416, 277),\n",
       " (0.752083320069902, 278),\n",
       " (0.8765042259635053, 279),\n",
       " (0.6715407961285791, 280),\n",
       " (0.7635996863651914, 281),\n",
       " (0.7187629375644211, 282),\n",
       " (0.8071185277963334, 283),\n",
       " (0.75327348908462, 284),\n",
       " (0.6434650857995365, 285),\n",
       " (0.7847262296516717, 286),\n",
       " (0.5729006973097384, 287),\n",
       " (0.5823851574391827, 288),\n",
       " (0.5169318112519459, 289),\n",
       " (0.5383285172624155, 290),\n",
       " (0.7403812635887936, 291),\n",
       " (0.6200240098679497, 292),\n",
       " (0.7907586780663227, 293),\n",
       " (0.827635025460807, 294),\n",
       " (0.7624770819436564, 295),\n",
       " (0.7841454203122762, 296),\n",
       " (0.7614916310353609, 297),\n",
       " (0.5398804538181927, 298),\n",
       " (0.806816307283303, 299),\n",
       " (0.8309471945178165, 300),\n",
       " (0.8323270882707366, 301),\n",
       " (0.781005487345779, 302),\n",
       " (0.5958786464705765, 303),\n",
       " (0.6776618866341475, 304),\n",
       " (0.6477132126335097, 305),\n",
       " (0.8268367070514433, 306),\n",
       " (0.7376542399998829, 307),\n",
       " (0.7674099760530114, 308),\n",
       " (0.7725855540857027, 309),\n",
       " (0.7342872305290107, 310),\n",
       " (0.6321623433671508, 311),\n",
       " (0.5445227385903448, 312),\n",
       " (0.49268049523571, 313),\n",
       " (0.5984098902231285, 314),\n",
       " (0.8121083356747254, 315),\n",
       " (0.6276301917089617, 316),\n",
       " (0.74124228213354, 317),\n",
       " (0.6982842351583683, 318),\n",
       " (0.6156704168023223, 319),\n",
       " (0.4943937337451667, 320),\n",
       " (0.7397474828677345, 321),\n",
       " (0.5867391052809202, 322),\n",
       " (0.5852494857053449, 323),\n",
       " (0.6660891038773036, 324),\n",
       " (0.5977893483003784, 325),\n",
       " (0.7008196330335079, 326),\n",
       " (0.8638719034489196, 327),\n",
       " (0.772797092324631, 328),\n",
       " (0.6059534714415955, 329),\n",
       " (0.6392649735218264, 330),\n",
       " (0.5238079279050671, 331),\n",
       " (0.6482472369743851, 332),\n",
       " (0.6706200427602773, 333),\n",
       " (0.7999370594664972, 334),\n",
       " (0.7101676888956113, 335),\n",
       " (0.6585197922708643, 336),\n",
       " (0.794261702659132, 337),\n",
       " (0.6835335567359311, 338),\n",
       " (0.5881945141613962, 339),\n",
       " (0.7958875114971022, 340),\n",
       " (0.7811646164932713, 341),\n",
       " (0.6661848331067071, 342),\n",
       " (0.7335933173222069, 343),\n",
       " (0.7747893412618048, 344),\n",
       " (0.7312754801907946, 345),\n",
       " (0.7339759071920751, 346),\n",
       " (0.592164388353029, 347),\n",
       " (0.74113598642444, 348),\n",
       " (0.6344803005568015, 349),\n",
       " (0.767577983024696, 350),\n",
       " (0.8637909680987217, 351),\n",
       " (0.7011887374487368, 352),\n",
       " (0.5457054530250447, 353),\n",
       " (0.7611762755877612, 354),\n",
       " (0.8115686694002218, 355),\n",
       " (0.7998460453314972, 356),\n",
       " (0.6701189652595388, 357),\n",
       " (0.720892400696655, 358),\n",
       " (0.6286525149891893, 359),\n",
       " (0.710754001288627, 360),\n",
       " (0.7367651845836933, 361),\n",
       " (0.6095510587444362, 362),\n",
       " (0.7587940269112002, 363),\n",
       " (0.7862121086939878, 364),\n",
       " (0.579615139315474, 365),\n",
       " (0.7676386109293795, 366),\n",
       " (0.45019379384397173, 367),\n",
       " (0.767546371696286, 368),\n",
       " (0.7922287829126675, 369),\n",
       " (0.7070890320098212, 370),\n",
       " (0.6626268952774659, 371),\n",
       " (0.6810213405515608, 372),\n",
       " (0.706804620079625, 373),\n",
       " (0.5696689692418424, 374),\n",
       " (0.6745153239771078, 375),\n",
       " (0.7343203471796982, 376),\n",
       " (0.6574817954128033, 377),\n",
       " (0.7944184298925424, 378),\n",
       " (0.7978592673420029, 379),\n",
       " (0.6499435971262699, 380),\n",
       " (0.7266751516366412, 381),\n",
       " (0.7800311670351046, 382),\n",
       " (0.8318927459041676, 383),\n",
       " (0.7358795150176887, 384),\n",
       " (0.7926005461892867, 385),\n",
       " (0.7496156628670982, 386),\n",
       " (0.7755659470497414, 387),\n",
       " (0.5676998967090076, 388),\n",
       " (0.5892187423298252, 389),\n",
       " (0.7774081125181176, 390),\n",
       " (0.6225533589958914, 391),\n",
       " (0.854066336103589, 392),\n",
       " (0.4429694058549233, 393),\n",
       " (0.6963833539980813, 394),\n",
       " (0.7724304042657333, 395),\n",
       " (0.6553430149290185, 396),\n",
       " (0.6801538734983532, 397),\n",
       " (0.6851577212113293, 398),\n",
       " (0.7422574259675698, 399),\n",
       " (0.7175609656239261, 400),\n",
       " (0.6822877383708156, 401),\n",
       " (0.5327580943789887, 402),\n",
       " (0.482566562752097, 403),\n",
       " (0.6798520544332132, 404),\n",
       " (0.6615733418824483, 405),\n",
       " (0.5516722380415622, 406),\n",
       " (0.7064513991306167, 407),\n",
       " (0.7733353177166551, 408),\n",
       " (0.7250931276369411, 409),\n",
       " (0.7768134664113197, 410),\n",
       " (0.6754484344981673, 411),\n",
       " (0.7617428951637933, 412),\n",
       " (0.5954261354395697, 413),\n",
       " (0.5946427475000368, 414),\n",
       " (0.5607382803237906, 415),\n",
       " (0.5066529236159216, 416),\n",
       " (0.744992211156744, 417),\n",
       " (0.7445941810184344, 418),\n",
       " (0.8101584456802974, 419),\n",
       " (0.7684042309329904, 420),\n",
       " (0.6716502631040755, 421),\n",
       " (0.7462724269536878, 422),\n",
       " (0.7007444084758612, 423),\n",
       " (0.684016319628972, 424),\n",
       " (0.6106427782149569, 425),\n",
       " (0.47596896046894677, 426),\n",
       " (0.7714336870796028, 427),\n",
       " (0.7074950498329615, 428),\n",
       " (0.653890242255803, 429),\n",
       " (0.7840038998349471, 430),\n",
       " (0.80428979011535, 431),\n",
       " (0.6427559775790135, 432),\n",
       " (0.8490464325672716, 433),\n",
       " (0.624173528889826, 434),\n",
       " (0.818953720347416, 435),\n",
       " (0.5697187649715775, 436),\n",
       " (0.75151359443338, 437),\n",
       " (0.7037636587655005, 438),\n",
       " (0.7803853871639295, 439),\n",
       " (0.7768206155123561, 440),\n",
       " (0.8345165418301042, 441),\n",
       " (0.6345839544746388, 442),\n",
       " (0.8677170591997709, 443),\n",
       " (0.8369743440923972, 444),\n",
       " (0.8204505039557235, 445),\n",
       " (0.7276256995624277, 446),\n",
       " (0.7015798271902283, 447),\n",
       " (0.7823227850390854, 448),\n",
       " (0.7817326752186381, 449),\n",
       " (0.7550886966023534, 450),\n",
       " (0.6388893195865979, 451),\n",
       " (0.6018434040707992, 452),\n",
       " (0.6884768202543776, 453),\n",
       " (0.7694544253969001, 454),\n",
       " (0.7044349347285732, 455),\n",
       " (0.496348118212562, 456),\n",
       " (0.5774876966190096, 457),\n",
       " (0.8025012035819906, 458),\n",
       " (0.7461903016828134, 459),\n",
       " (0.7788233125339468, 460),\n",
       " (0.7325050992934641, 461),\n",
       " (0.6766174778075336, 462),\n",
       " (0.7917526719258405, 463),\n",
       " (0.6224164461527171, 464),\n",
       " (0.644673422825121, 465),\n",
       " (0.7000739554569364, 466),\n",
       " (0.5494120211230932, 467),\n",
       " (0.7252931644947265, 468),\n",
       " (0.7788649354246241, 469),\n",
       " (0.5274441170791111, 470),\n",
       " (0.58163736267533, 471),\n",
       " (0.385818180281151, 472),\n",
       " (0.7193154074023762, 473),\n",
       " (0.699712280370932, 474),\n",
       " (0.7864411702706227, 475),\n",
       " (0.6317127939807266, 476),\n",
       " (0.7791341016776671, 477),\n",
       " (0.8320732723266151, 478),\n",
       " (0.5955253243181806, 479),\n",
       " (0.661018060627938, 480),\n",
       " (0.71817125469966, 481),\n",
       " (0.6756389399603149, 482),\n",
       " (0.5426596482726291, 483),\n",
       " (0.7161110410211202, 484),\n",
       " (0.5598889723969988, 485),\n",
       " (0.71543011230231, 486),\n",
       " (0.6210156308673986, 487),\n",
       " (0.7528071267317399, 488),\n",
       " (0.6254422755977171, 489),\n",
       " (0.5706926895849787, 490),\n",
       " (0.7818405489439996, 491),\n",
       " (0.6827114705027082, 492),\n",
       " (0.7029754698817925, 493),\n",
       " (0.8124983209339216, 494),\n",
       " (0.6454620159699987, 495),\n",
       " (0.8099971350603731, 496),\n",
       " (0.7091803452220338, 497),\n",
       " (0.6311415626465036, 498),\n",
       " (0.8189108026359343, 499),\n",
       " (0.7691620128990966, 500),\n",
       " (0.5988220619256197, 501),\n",
       " (0.5947128461791302, 502),\n",
       " (0.7298992575442013, 503),\n",
       " (0.5322428155077665, 504),\n",
       " (0.7017829437071066, 505),\n",
       " (0.741310182311043, 506),\n",
       " (0.8367383380199918, 507),\n",
       " (0.7470555820832727, 508),\n",
       " (0.7218812088659079, 509),\n",
       " (0.699304270002556, 510),\n",
       " (0.6313490745446599, 511),\n",
       " (0.6322337139434734, 512),\n",
       " (0.7475904164264757, 513),\n",
       " (0.7153497046875275, 514),\n",
       " (0.8706207562294492, 515),\n",
       " (0.7880639548237462, 516),\n",
       " (0.7939041637478421, 517),\n",
       " (0.6535544976076519, 518),\n",
       " (0.794240343011527, 519),\n",
       " (0.7700187363955768, 520),\n",
       " (0.7092211610991699, 521),\n",
       " (0.5167573485546353, 522),\n",
       " (0.588331301048016, 523),\n",
       " (0.5412915593616552, 524),\n",
       " (0.4422936913030291, 525),\n",
       " (0.7715687338130289, 526),\n",
       " (0.8075825882558044, 527),\n",
       " (0.817549960218888, 528),\n",
       " (0.6540234618735191, 529),\n",
       " (0.7081101187264248, 530),\n",
       " (0.7075332002077187, 531),\n",
       " (0.7560870331887098, 532),\n",
       " (0.7678574182500723, 533),\n",
       " (0.5075761142577921, 534),\n",
       " (0.5920341346272124, 535),\n",
       " (0.7683347188642354, 536),\n",
       " (0.5428364487850177, 537),\n",
       " (0.7157706299093165, 538),\n",
       " (0.7086083881469014, 539),\n",
       " (0.7562499889120724, 540),\n",
       " (0.7045127287210036, 541),\n",
       " (0.7920703171917709, 542),\n",
       " (0.584129904818832, 543),\n",
       " (0.7739467145638408, 544),\n",
       " (0.5381412707004245, 545),\n",
       " (0.7453465977248181, 546),\n",
       " (0.3484222719801938, 547),\n",
       " (0.7768872241863941, 548),\n",
       " (0.5838080903767123, 549),\n",
       " (0.6807095686836075, 550),\n",
       " (0.6877266069657211, 551),\n",
       " (0.6847762208802688, 552),\n",
       " (0.7569744922716415, 553),\n",
       " (0.6546740744626214, 554),\n",
       " (0.8610333265147385, 555),\n",
       " (0.6739154125155008, 556),\n",
       " (0.5240904110931071, 557),\n",
       " (0.8291934176786012, 558),\n",
       " (0.7977373899446134, 559),\n",
       " (0.7071441080388439, 560),\n",
       " (0.5545616343406897, 561),\n",
       " (0.8181856871005732, 562),\n",
       " (0.6319781902872229, 563),\n",
       " (0.6715656221670969, 564),\n",
       " (0.8005632027589484, 565),\n",
       " (0.8398597493288624, 566),\n",
       " (0.7639420817157081, 567),\n",
       " (0.7407473977618718, 568),\n",
       " (0.7494595674519055, 569),\n",
       " (0.7376420824873471, 570),\n",
       " (0.6926324590400706, 571),\n",
       " (0.7292683757071974, 572),\n",
       " (0.7280291865981341, 573),\n",
       " (0.6182174099978021, 574),\n",
       " (0.7281648344475816, 575),\n",
       " (0.7265351740020033, 576),\n",
       " (0.7616649198796568, 577),\n",
       " (0.784396444947232, 578),\n",
       " (0.6426625805768666, 579),\n",
       " (0.6182155403905165, 580),\n",
       " (0.720062786967735, 581),\n",
       " (0.5546856829976301, 582),\n",
       " (0.6412716212752354, 583),\n",
       " (0.6092826812328201, 584),\n",
       " (0.5691193477815313, 585),\n",
       " (0.7066003991950529, 586),\n",
       " (0.6265230179393066, 587),\n",
       " (0.7408291531377973, 588),\n",
       " (0.7524197828384209, 589),\n",
       " (0.6677535389597846, 590),\n",
       " (0.7456824371880103, 591),\n",
       " (0.7629667641275992, 592),\n",
       " (0.8192564331095586, 593),\n",
       " (0.6481518902037815, 594),\n",
       " (0.41430713391947593, 595),\n",
       " (0.6128565176299252, 596),\n",
       " (0.6737590894108219, 597),\n",
       " (0.6374854403020991, 598),\n",
       " (0.5138392945315857, 599),\n",
       " (0.5078707056323346, 600),\n",
       " (0.5619762144364512, 601),\n",
       " (0.7597885218096944, 602),\n",
       " (0.6431998427048653, 603),\n",
       " (0.6777079181314872, 604),\n",
       " (0.7647887425766292, 605),\n",
       " (0.5337918431244293, 606),\n",
       " (0.6043964744037191, 607),\n",
       " (0.8106836970390161, 608),\n",
       " (0.6627461130014072, 609),\n",
       " (0.5679763234151202, 610),\n",
       " (0.6590272855890595, 611),\n",
       " (0.6271410493374665, 612),\n",
       " (0.6625324905369625, 613),\n",
       " (0.7877267266720532, 614),\n",
       " (0.5970033902020377, 615),\n",
       " (0.35614603107875253, 616),\n",
       " (0.7149318332444088, 617),\n",
       " (0.7278986671974402, 618),\n",
       " (0.6396067029498523, 619),\n",
       " (0.678184496384233, 620),\n",
       " (0.7460372726793738, 621),\n",
       " (0.6440743916553486, 622),\n",
       " (0.5722107870489872, 623),\n",
       " (0.803708389340605, 624),\n",
       " (0.7460906904263706, 625),\n",
       " (0.6799777168868043, 626),\n",
       " (0.6440288130879006, 627),\n",
       " (0.7550639514322272, 628),\n",
       " (0.7094780260090132, 629),\n",
       " (0.6864833574617188, 630),\n",
       " (0.7522498228865411, 631),\n",
       " (0.6680961740549265, 632),\n",
       " (0.6384455935553808, 633),\n",
       " (0.5429296477944471, 634),\n",
       " (0.6368616099686927, 635),\n",
       " (0.6643263183912418, 636),\n",
       " (0.7475041901315845, 637),\n",
       " (0.7776977244151477, 638),\n",
       " (0.556758554590327, 639),\n",
       " (0.6518454409695982, 640),\n",
       " (0.7428578173520586, 641),\n",
       " (0.6981197500238165, 642),\n",
       " (0.7322416965380435, 643),\n",
       " (0.5160817575893664, 644),\n",
       " (0.7719088056632524, 645),\n",
       " (0.771934469099918, 646),\n",
       " (0.5224135891207393, 647),\n",
       " (0.6991973095513797, 648),\n",
       " (0.7003630303992316, 649),\n",
       " (0.6720099370516537, 650),\n",
       " (0.6479526815065468, 651),\n",
       " (0.8688960249966241, 652),\n",
       " (0.7989324462360289, 653),\n",
       " (0.8057194086728807, 654),\n",
       " (0.7406551787592851, 655),\n",
       " (0.5976187547866738, 656),\n",
       " (0.5498286031117379, 657),\n",
       " (0.765068693228506, 658),\n",
       " (0.753231763009621, 659),\n",
       " (0.6925272738923673, 660),\n",
       " (0.8897680821375169, 661),\n",
       " (0.625201197303768, 662),\n",
       " (0.5501125898863315, 663),\n",
       " (0.5213193222404978, 664),\n",
       " (0.722124989566976, 665),\n",
       " (0.7710519656178813, 666),\n",
       " (0.77847336228279, 667),\n",
       " (0.7773354382010551, 668),\n",
       " (0.8006844385381763, 669),\n",
       " (0.8313180856143286, 670),\n",
       " (0.5791126693252606, 671),\n",
       " (0.7055442586399376, 672),\n",
       " (0.7999513929844213, 673),\n",
       " (0.8131101292013592, 674),\n",
       " (0.6360144649840647, 675),\n",
       " (0.6904028326757035, 676),\n",
       " (0.6009688744217418, 677),\n",
       " (0.7654538106699175, 678),\n",
       " (0.6900966384615191, 679),\n",
       " (0.6551035245862538, 680),\n",
       " (0.6055839039698091, 681),\n",
       " (0.7612967074737053, 682),\n",
       " (0.7270114146547638, 683),\n",
       " (0.6274407644882463, 684),\n",
       " (0.7213983281404615, 685),\n",
       " (0.8722077420880859, 686),\n",
       " (0.7337109963158785, 687),\n",
       " (0.6655014797640003, 688),\n",
       " (0.8161937827574814, 689),\n",
       " (0.606420741927853, 690),\n",
       " (0.7185694260670926, 691),\n",
       " (0.6499279577920021, 692),\n",
       " (0.7241792612978697, 693),\n",
       " (0.7289777476441424, 694),\n",
       " (0.7766532696488586, 695),\n",
       " (0.7177402439292675, 696),\n",
       " (0.6228276965230813, 697),\n",
       " (0.7845762895964252, 698),\n",
       " (0.7278548310917841, 699),\n",
       " (0.5372322663534677, 700),\n",
       " (0.7360064625843146, 701),\n",
       " (0.670540455409398, 702),\n",
       " (0.7737681850635454, 703),\n",
       " (0.6862332579118842, 704),\n",
       " (0.7322561869994246, 705),\n",
       " (0.7461467202687551, 706),\n",
       " (0.7476823517478297, 707),\n",
       " (0.7196447054677386, 708),\n",
       " (0.5580498288510684, 709),\n",
       " (0.6674122285894215, 710),\n",
       " (0.7561742795282119, 711),\n",
       " (0.8363504400426324, 712),\n",
       " (0.8317083538199939, 713),\n",
       " (0.6734293893301504, 714),\n",
       " (0.7410429936529124, 715),\n",
       " (0.7715776364479829, 716),\n",
       " (0.6840716152813687, 717),\n",
       " (0.4225925659197819, 718),\n",
       " (0.6939930835651382, 719),\n",
       " (0.6164943705080894, 720),\n",
       " (0.6919859484363212, 721),\n",
       " (0.7766424010223909, 722),\n",
       " (0.7337506575199737, 723),\n",
       " (0.6662467050333534, 724),\n",
       " (0.6630153953199124, 725),\n",
       " (0.6871885872185524, 726),\n",
       " (0.7133753693746435, 727),\n",
       " (0.7075291303834472, 728),\n",
       " (0.6711042753318086, 729),\n",
       " (0.7458637992251707, 730),\n",
       " (0.5432694005684682, 731),\n",
       " (0.7929982576902016, 732),\n",
       " (0.7274546410240784, 733),\n",
       " (0.6332448244881266, 734),\n",
       " (0.565804657040081, 735),\n",
       " (0.6443212635032577, 736),\n",
       " (0.5818720987009945, 737),\n",
       " (0.7517761560449867, 738),\n",
       " (0.6304855604409516, 739),\n",
       " (0.735733639293003, 740),\n",
       " (0.6543981311007663, 741),\n",
       " (0.794022718075907, 742),\n",
       " (0.7815390928673439, 743),\n",
       " (0.5806227796418103, 744),\n",
       " (0.6718526103545022, 745),\n",
       " (0.7537152118327699, 746),\n",
       " (0.5620660157138602, 747),\n",
       " (0.6343179687419511, 748),\n",
       " (0.5603209449824293, 749),\n",
       " (0.6011250886221469, 750),\n",
       " (0.7434996512423979, 751),\n",
       " (0.7617049859402742, 752),\n",
       " (0.8062566596366005, 753),\n",
       " (0.8110257253069871, 754),\n",
       " (0.6359381266296025, 755),\n",
       " (0.7581437269699685, 756),\n",
       " (0.778910962275766, 757),\n",
       " (0.5856857751138504, 758),\n",
       " (0.6881040264100552, 759),\n",
       " (0.7230036920154667, 760),\n",
       " (0.7564836653121856, 761),\n",
       " (0.7460455365023274, 762),\n",
       " (0.6599617859385014, 763),\n",
       " (0.6284101185267468, 764),\n",
       " (0.7058777581488055, 765),\n",
       " (0.6908804794839276, 766),\n",
       " (0.6878227572835209, 767),\n",
       " (0.5381140250149752, 768),\n",
       " (0.7795143049036474, 769),\n",
       " (0.6982405898887515, 770),\n",
       " (0.7037839712710557, 771),\n",
       " (0.799284435205152, 772),\n",
       " (0.7544389486373813, 773),\n",
       " (0.6129621624959254, 774),\n",
       " (0.7000993909242011, 775),\n",
       " (0.6397494664760541, 776),\n",
       " (0.48296453821433927, 777),\n",
       " (0.7512532632618225, 778),\n",
       " (0.6909010185247038, 779),\n",
       " (0.7885460629065804, 780),\n",
       " (0.7946519240628941, 781),\n",
       " (0.745192481487009, 782),\n",
       " (0.7929800687588768, 783),\n",
       " (0.6572913417627695, 784),\n",
       " (0.6631812177794709, 785),\n",
       " (0.6941413570068382, 786),\n",
       " (0.7418627676165908, 787),\n",
       " (0.7572791976454689, 788),\n",
       " (0.4893569224420483, 789),\n",
       " (0.7816147944638859, 790),\n",
       " (0.7728914599045877, 791),\n",
       " (0.82175797816964, 792),\n",
       " (0.7494730543360281, 793),\n",
       " (0.7507103816765788, 794),\n",
       " (0.617285082683469, 795),\n",
       " (0.7799690986365363, 796),\n",
       " (0.6462723601825024, 797),\n",
       " (0.7568780140173397, 798),\n",
       " (0.7489323768726591, 799),\n",
       " (0.7304006883173519, 800),\n",
       " (0.5628496171192985, 801),\n",
       " (0.6006484888865329, 802),\n",
       " (0.7197812108447624, 803),\n",
       " (0.6468804256683774, 804),\n",
       " (0.6709369430610684, 805),\n",
       " (0.6690274072199741, 806),\n",
       " (0.8089511140789206, 807),\n",
       " (0.41280393537975224, 808),\n",
       " (0.6403888934053801, 809),\n",
       " (0.6559004303173606, 810),\n",
       " (0.6635871282906478, 811),\n",
       " (0.7583569570137699, 812),\n",
       " (0.5564219068135561, 813),\n",
       " (0.7804625600242419, 814),\n",
       " (0.7234444877162255, 815),\n",
       " (0.7017506121644501, 816),\n",
       " (0.721876741302399, 817),\n",
       " (0.7221581645068758, 818),\n",
       " (0.6659109392777144, 819),\n",
       " (0.5772474603024629, 820),\n",
       " (0.806287059078323, 821),\n",
       " (0.7769458996203492, 822),\n",
       " (0.5765282887413439, 823),\n",
       " (0.501499688729915, 824),\n",
       " (0.7914764403810152, 825),\n",
       " (0.6648815917467319, 826),\n",
       " (0.8363367638495723, 827),\n",
       " (0.7610085365708668, 828),\n",
       " (0.6764897745865335, 829),\n",
       " (0.5572581618292229, 830),\n",
       " (0.7984821331701721, 831),\n",
       " (0.833405802398349, 832),\n",
       " (0.6178235229810125, 833),\n",
       " (0.7807624197417063, 834),\n",
       " (0.7324648346492708, 835),\n",
       " (0.6936985183878825, 836),\n",
       " (0.6444160272070554, 837),\n",
       " (0.7319078871503167, 838),\n",
       " (0.6539132564338166, 839),\n",
       " (0.7964361509795056, 840),\n",
       " (0.8191211617929266, 841),\n",
       " (0.7926520833733537, 842),\n",
       " (0.7825983553561495, 843),\n",
       " (0.731945174992644, 844),\n",
       " (0.5133972716812033, 845),\n",
       " (0.5969545957796154, 846),\n",
       " (0.7630792722238007, 847),\n",
       " (0.6790123498735408, 848),\n",
       " (0.710307862993773, 849),\n",
       " (0.8167213184970069, 850),\n",
       " (0.6600365767448373, 851),\n",
       " (0.6872152527085014, 852),\n",
       " (0.6562203295311806, 853),\n",
       " (0.55570560705772, 854),\n",
       " (0.7048483491709129, 855),\n",
       " (0.6420816916184123, 856),\n",
       " (0.5387150807679983, 857),\n",
       " (0.8186903146841716, 858),\n",
       " (0.5441043763311921, 859),\n",
       " (0.79304967260258, 860),\n",
       " (0.611266065503695, 861),\n",
       " (0.6925880454731024, 862),\n",
       " (0.7075907622815183, 863),\n",
       " (0.7055105234319381, 864),\n",
       " (0.5767143042027719, 865),\n",
       " (0.6852888195638825, 866),\n",
       " (0.6790430732121877, 867),\n",
       " (0.548135090679652, 868),\n",
       " (0.6872711665595345, 869),\n",
       " (0.59718166034958, 870),\n",
       " (0.5925335799208318, 871),\n",
       " (0.7521762422890433, 872),\n",
       " (0.7875956045479539, 873),\n",
       " (0.7405497011155674, 874),\n",
       " (0.7086752646109972, 875),\n",
       " (0.7574645514153407, 876),\n",
       " (0.6984728409254768, 877),\n",
       " (0.6505444476458054, 878),\n",
       " (0.8107953011371434, 879),\n",
       " (0.7627062938317904, 880),\n",
       " (0.7520725206758826, 881),\n",
       " (0.7283714912847628, 882),\n",
       " (0.7583564110328016, 883),\n",
       " (0.7329826746496398, 884),\n",
       " (0.6298815315057092, 885),\n",
       " (0.5544343471490152, 886),\n",
       " (0.6903565013954498, 887),\n",
       " (0.6472821756836284, 888),\n",
       " (0.6655206317384016, 889),\n",
       " (0.7290393768556819, 890),\n",
       " (0.590036561891734, 891),\n",
       " (0.6502221553837355, 892),\n",
       " (0.7314234491050586, 893),\n",
       " (0.593038155433117, 894),\n",
       " (0.4918129541629137, 895),\n",
       " (0.6981156743740331, 896),\n",
       " (0.6925610925474399, 897),\n",
       " (0.8358569681934919, 898),\n",
       " (0.6907052617620038, 899),\n",
       " (0.7430013428946081, 900),\n",
       " (0.6311681699674836, 901),\n",
       " (0.6093419425526277, 902),\n",
       " (0.8499896991835515, 903),\n",
       " (0.8298520191256097, 904),\n",
       " (0.7003175576823267, 905),\n",
       " (0.8488859370276414, 906),\n",
       " (0.7250293570793556, 907),\n",
       " (0.7654100172315446, 908),\n",
       " (0.7436457070561565, 909),\n",
       " (0.7732765893283122, 910),\n",
       " (0.8154107255033219, 911),\n",
       " (0.6025963856878347, 912),\n",
       " (0.6387750400248506, 913),\n",
       " (0.6795832563612454, 914),\n",
       " (0.7692269597030787, 915),\n",
       " (0.5322766089965946, 916),\n",
       " (0.5559161436763318, 917),\n",
       " (0.7093920091706036, 918),\n",
       " (0.5332514833803654, 919),\n",
       " (0.5953847712938922, 920),\n",
       " (0.7527242046245599, 921),\n",
       " (0.7980850037287761, 922),\n",
       " (0.6944956276296602, 923),\n",
       " (0.6846284734442097, 924),\n",
       " (0.6357822129268648, 925),\n",
       " (0.8145150836858283, 926),\n",
       " (0.7578599875027496, 927),\n",
       " (0.8050402860483589, 928),\n",
       " (0.730005778019336, 929),\n",
       " (0.606267915858286, 930),\n",
       " (0.74783150948745, 931),\n",
       " (0.5447367754538727, 932),\n",
       " (0.7911794975763136, 933),\n",
       " (0.6786799279094402, 934),\n",
       " (0.6849735566690374, 935),\n",
       " (0.7904156897108567, 936),\n",
       " (0.5709837630958281, 937),\n",
       " (0.7669116641049905, 938),\n",
       " (0.6398698169139783, 939),\n",
       " (0.5993163263961281, 940),\n",
       " (0.6372319175058898, 941),\n",
       " (0.7092691625141219, 942),\n",
       " (0.6749029477365316, 943),\n",
       " (0.7591471195307389, 944),\n",
       " (0.8127764017429605, 945),\n",
       " (0.5094950883271958, 946),\n",
       " (0.5941296562968714, 947),\n",
       " (0.6775369977127808, 948),\n",
       " (0.8056093955294685, 949),\n",
       " (0.514994654565627, 950),\n",
       " (0.6945650310503659, 951),\n",
       " (0.7428443756764992, 952),\n",
       " (0.7064304190132094, 953),\n",
       " (0.7359712441573321, 954),\n",
       " (0.6884927126489379, 955),\n",
       " (0.6184238418150205, 956),\n",
       " (0.6734433366703235, 957),\n",
       " (0.7740646794609951, 958),\n",
       " (0.764260665583699, 959),\n",
       " (0.531657667137371, 960),\n",
       " (0.7249508139891412, 961),\n",
       " (0.6992194523533491, 962),\n",
       " (0.5376431918033531, 963),\n",
       " (0.6120092301840299, 964),\n",
       " (0.7057862439960236, 965),\n",
       " (0.7868098063436446, 966),\n",
       " (0.8635726642661803, 967),\n",
       " (0.6956452135036173, 968),\n",
       " (0.7730976495152762, 969),\n",
       " (0.5359107915342596, 970),\n",
       " (0.6131656638729255, 971),\n",
       " (0.7106208686586273, 972),\n",
       " (0.626713166938407, 973),\n",
       " (0.7537429224814878, 974),\n",
       " (0.6724810011540713, 975),\n",
       " (0.6981395957472029, 976),\n",
       " (0.7692439286020601, 977),\n",
       " (0.7220505209237846, 978),\n",
       " (0.43959538635383144, 979),\n",
       " (0.6283771334105275, 980),\n",
       " (0.8111514474001902, 981),\n",
       " (0.7447530417825307, 982),\n",
       " (0.7309022877230555, 983),\n",
       " (0.5910086960469204, 984),\n",
       " (0.6633126364801881, 985),\n",
       " (0.821197117764447, 986),\n",
       " (0.6883107739854432, 987),\n",
       " (0.7796857881507274, 988),\n",
       " (0.8056951167835259, 989),\n",
       " (0.6235369467134566, 990),\n",
       " (0.6873441754328757, 991),\n",
       " (0.725338889340494, 992),\n",
       " (0.758222924394882, 993),\n",
       " (0.7398116937264048, 994),\n",
       " (0.6956639259828863, 995),\n",
       " (0.7689058956006849, 996),\n",
       " (0.7899338471115543, 997),\n",
       " (0.6167410379285492, 998),\n",
       " (0.6360007356528954, 999)]"
      ]
     },
     "execution_count": 258,
     "metadata": {},
     "output_type": "execute_result"
    }
   ],
   "source": [
    "score"
   ]
  },
  {
   "cell_type": "code",
   "execution_count": null,
   "metadata": {},
   "outputs": [],
   "source": []
  },
  {
   "cell_type": "code",
   "execution_count": 108,
   "metadata": {},
   "outputs": [
    {
     "data": {
      "text/plain": [
       "661"
      ]
     },
     "execution_count": 108,
     "metadata": {},
     "output_type": "execute_result"
    }
   ],
   "source": [
    "np.argmax(score)"
   ]
  },
  {
   "cell_type": "code",
   "execution_count": 109,
   "metadata": {},
   "outputs": [
    {
     "data": {
      "text/plain": [
       "0.8897680821375169"
      ]
     },
     "execution_count": 109,
     "metadata": {},
     "output_type": "execute_result"
    }
   ],
   "source": [
    "score[np.argmax(score)]"
   ]
  },
  {
   "cell_type": "code",
   "execution_count": 110,
   "metadata": {},
   "outputs": [
    {
     "data": {
      "text/plain": [
       "array([223814.89664002])"
      ]
     },
     "execution_count": 110,
     "metadata": {},
     "output_type": "execute_result"
    }
   ],
   "source": [
    "model.predict(pd.DataFrame(columns=x_test.columns,data=np.array(['Maruti Suzuki Swift','Maruti',2010,80000,'LPG']).reshape(1,5)))"
   ]
  },
  {
   "cell_type": "code",
   "execution_count": 111,
   "metadata": {},
   "outputs": [],
   "source": [
    "import pickle"
   ]
  },
  {
   "cell_type": "markdown",
   "metadata": {},
   "source": [
    "now, we dump all our data(model) into a pickle file"
   ]
  },
  {
   "cell_type": "code",
   "execution_count": null,
   "metadata": {},
   "outputs": [],
   "source": [
    "pickle.dump(model,open(\"carpricepredictionbyLR.pkl\" , 'wb'))"
   ]
  }
 ],
 "metadata": {
  "kernelspec": {
   "display_name": "Python 3",
   "language": "python",
   "name": "python3"
  },
  "language_info": {
   "codemirror_mode": {
    "name": "ipython",
    "version": 3
   },
   "file_extension": ".py",
   "mimetype": "text/x-python",
   "name": "python",
   "nbconvert_exporter": "python",
   "pygments_lexer": "ipython3",
   "version": "3.8.5"
  }
 },
 "nbformat": 4,
 "nbformat_minor": 4
}
